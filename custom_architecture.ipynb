{
 "cells": [
  {
   "cell_type": "code",
   "execution_count": 53,
   "metadata": {},
   "outputs": [],
   "source": [
    "import torch.nn as nn\n",
    "import torch.nn.functional as F\n",
    "\n",
    "\n",
    "class ppNet(nn.Module):\n",
    "    def __init__(self):\n",
    "        super(ppNet, self).__init__()\n",
    "        self.conv1 = nn.Conv2d(3, 6, 5)\n",
    "        self.bn1 = nn.BatchNorm2d(6)\n",
    "        self.pool = nn.MaxPool2d(2, 2)\n",
    "        self.conv2 = nn.Conv2d(6, 16, 5)\n",
    "        self.bn2 = nn.BatchNorm2d(16)\n",
    "        self.conv3 = nn.Conv2d(16, 26, 5)\n",
    "        self.conv4 = nn.Conv2d(26, 36, 5)\n",
    "        self.bn3 = nn.BatchNorm2d(26)\n",
    "        self.bn4 = nn.BatchNorm2d(36)\n",
    "        self.fc1 = nn.Linear(36*10*10, 120)\n",
    "        self.fc2 = nn.Linear(120, 84)\n",
    "        self.fc3 = nn.Linear(84, 2)\n",
    "\n",
    "    def forward(self, x):\n",
    "        x = self.pool(F.relu(self.bn1(self.conv1(x))))\n",
    "        x = self.pool(F.relu(self.bn2(self.conv2(x))))\n",
    "        x = self.pool(F.relu(self.bn3(self.conv3(x))))\n",
    "        x = self.pool(F.relu(self.bn4(self.conv4(x))))\n",
    "        x = x.view(-1, 36*10*10)\n",
    "        x = F.relu(self.fc1(x))\n",
    "        x = F.relu(self.fc2(x))\n",
    "        x = self.fc3(x)\n",
    "        return x\n",
    "\n",
    "\n",
    "net = ppNet()"
   ]
  },
  {
   "cell_type": "code",
   "execution_count": 54,
   "metadata": {},
   "outputs": [
    {
     "data": {
      "text/plain": [
       "ppNet(\n",
       "  (conv1): Conv2d(3, 6, kernel_size=(5, 5), stride=(1, 1))\n",
       "  (bn1): BatchNorm2d(6, eps=1e-05, momentum=0.1, affine=True, track_running_stats=True)\n",
       "  (pool): MaxPool2d(kernel_size=2, stride=2, padding=0, dilation=1, ceil_mode=False)\n",
       "  (conv2): Conv2d(6, 16, kernel_size=(5, 5), stride=(1, 1))\n",
       "  (bn2): BatchNorm2d(16, eps=1e-05, momentum=0.1, affine=True, track_running_stats=True)\n",
       "  (conv3): Conv2d(16, 26, kernel_size=(5, 5), stride=(1, 1))\n",
       "  (conv4): Conv2d(26, 36, kernel_size=(5, 5), stride=(1, 1))\n",
       "  (bn3): BatchNorm2d(26, eps=1e-05, momentum=0.1, affine=True, track_running_stats=True)\n",
       "  (bn4): BatchNorm2d(36, eps=1e-05, momentum=0.1, affine=True, track_running_stats=True)\n",
       "  (fc1): Linear(in_features=3600, out_features=120, bias=True)\n",
       "  (fc2): Linear(in_features=120, out_features=84, bias=True)\n",
       "  (fc3): Linear(in_features=84, out_features=2, bias=True)\n",
       ")"
      ]
     },
     "execution_count": 54,
     "metadata": {},
     "output_type": "execute_result"
    }
   ],
   "source": [
    "net"
   ]
  },
  {
   "cell_type": "code",
   "execution_count": 55,
   "metadata": {},
   "outputs": [],
   "source": [
    "\n",
    "from __future__ import print_function, division\n",
    "from sklearn.metrics import accuracy_score, classification_report, confusion_matrix\n",
    "from sklearn.model_selection import train_test_split\n",
    "from PIL import Image\n",
    "import torchvision\n",
    "import matplotlib.pyplot as plt\n",
    "import numpy as np\n",
    "import torch\n",
    "import os\n",
    "import time\n",
    "import random\n",
    "%matplotlib inline\n",
    "\n",
    "\n",
    "import torch.nn as nn\n",
    "import torch.optim as optim\n",
    "import numpy as np\n",
    "from torch.optim import lr_scheduler\n",
    "from torchvision import datasets, models, transforms\n",
    "\n",
    "\n",
    "train_Aug = torchvision.transforms.Compose([torchvision.transforms.Resize((224, 224)),       \n",
    "                                            torchvision.transforms.ToTensor()])\n",
    "test_Aug = torchvision.transforms.Compose([torchvision.transforms.Resize((224, 224)),  \n",
    "                                           torchvision.transforms.ToTensor()])"
   ]
  },
  {
   "cell_type": "code",
   "execution_count": 56,
   "metadata": {},
   "outputs": [],
   "source": [
    "train_dir = \"C:\\\\Users\\\\91958\\\\elocations_dataset\\\\train\"\n",
    "\n",
    "\n",
    "trainset = torchvision.datasets.ImageFolder(train_dir,transform = train_Aug)\n",
    "\n",
    "trainloader = torch.utils.data.DataLoader(trainset, batch_size=40, shuffle=True, num_workers=2)\n",
    "\n",
    "device = torch.device(\"cuda\" if torch.cuda.is_available() else \"cpu\")"
   ]
  },
  {
   "cell_type": "code",
   "execution_count": 57,
   "metadata": {},
   "outputs": [
    {
     "data": {
      "text/plain": [
       "2"
      ]
     },
     "execution_count": 57,
     "metadata": {},
     "output_type": "execute_result"
    }
   ],
   "source": [
    "class_names = trainset.classes\n",
    "len(class_names)"
   ]
  },
  {
   "cell_type": "code",
   "execution_count": 58,
   "metadata": {},
   "outputs": [],
   "source": [
    "\n",
    "criterion = nn.CrossEntropyLoss()\n",
    "\n",
    "# Observe that all parameters are being optimized\n",
    "optimizer_ft = optim.SGD(net.to(device).parameters(), lr=0.001, momentum=0.9)\n",
    "\n",
    "# Decay LR by a factor of 0.1 every 7 epochs\n",
    "exp_lr_scheduler = lr_scheduler.StepLR(optimizer_ft, step_size=7, gamma=0.1)"
   ]
  },
  {
   "cell_type": "code",
   "execution_count": 59,
   "metadata": {
    "scrolled": true
   },
   "outputs": [
    {
     "name": "stdout",
     "output_type": "stream",
     "text": [
      "Epoch 1/5, Loss: 0.418, Accuracy: 0.687\n",
      "Epoch 1/5, Loss: 0.270, Accuracy: 0.747\n",
      "Epoch 1/5, Loss: 0.380, Accuracy: 0.773\n",
      "Epoch 1/5, Loss: 0.387, Accuracy: 0.790\n",
      "Epoch 1/5, Loss: 0.171, Accuracy: 0.805\n",
      "Epoch 1/5, Loss: 0.266, Accuracy: 0.816\n",
      "Epoch 1/5, Loss: 0.185, Accuracy: 0.827\n",
      "Epoch 1/5, Loss: 0.273, Accuracy: 0.837\n",
      "Epoch 1/5, Loss: 0.526, Accuracy: 0.843\n",
      "Epoch 1/5, Loss: 0.225, Accuracy: 0.850\n",
      "Epoch 1/5, Loss: 0.205, Accuracy: 0.855\n",
      "Epoch 1/5, Loss: 0.204, Accuracy: 0.859\n",
      "Epoch 1/5, Loss: 0.211, Accuracy: 0.863\n",
      "Epoch 1/5, Loss: 0.138, Accuracy: 0.866\n",
      "Epoch 1/5, Loss: 0.106, Accuracy: 0.870\n",
      "Epoch 1/5, Loss: 0.116, Accuracy: 0.873\n",
      "Epoch 1/5, Loss: 0.309, Accuracy: 0.876\n",
      "Epoch 1/5, Loss: 0.201, Accuracy: 0.877\n",
      "Epoch 1/5, Loss: 0.140, Accuracy: 0.879\n",
      "Epoch 1/5, Loss: 0.166, Accuracy: 0.881\n",
      "Epoch 1/5, Loss: 0.135, Accuracy: 0.883\n",
      "Epoch 1/5, Loss: 0.252, Accuracy: 0.884\n",
      "Epoch 1/5, Loss: 0.227, Accuracy: 0.886\n",
      "Epoch 1/5, Loss: 0.190, Accuracy: 0.887\n",
      "Epoch 1/5, Loss: 0.203, Accuracy: 0.888\n",
      "Epoch 1/5, Loss: 0.224, Accuracy: 0.889\n",
      "Epoch 1/5, Loss: 0.217, Accuracy: 0.890\n",
      "Epoch 1/5, Loss: 0.153, Accuracy: 0.891\n",
      "Epoch 1/5, Loss: 0.122, Accuracy: 0.892\n",
      "Epoch 1/5, Loss: 0.228, Accuracy: 0.893\n",
      "Epoch 1/5, Loss: 0.143, Accuracy: 0.894\n",
      "Epoch 1/5, Loss: 0.285, Accuracy: 0.894\n",
      "Epoch 1/5, Loss: 0.160, Accuracy: 0.895\n",
      "Epoch 1/5, Loss: 0.134, Accuracy: 0.896\n",
      "Epoch 1/5, Loss: 0.290, Accuracy: 0.896\n",
      "Epoch 1/5, Loss: 0.215, Accuracy: 0.897\n",
      "Epoch 1/5, Loss: 0.095, Accuracy: 0.897\n",
      "Epoch 1/5, Loss: 0.247, Accuracy: 0.898\n",
      "Epoch 1/5, Loss: 0.134, Accuracy: 0.898\n",
      "Epoch 1/5, Loss: 0.211, Accuracy: 0.899\n",
      "Epoch 1/5, Loss: 0.171, Accuracy: 0.899\n",
      "Epoch 1/5, Loss: 0.118, Accuracy: 0.900\n",
      "Epoch 1/5, Loss: 0.281, Accuracy: 0.900\n",
      "Epoch 1/5, Loss: 0.163, Accuracy: 0.901\n",
      "Epoch 1/5, Loss: 0.195, Accuracy: 0.901\n",
      "Epoch 1/5, Loss: 0.223, Accuracy: 0.901\n",
      "Epoch 1/5, Loss: 0.188, Accuracy: 0.902\n",
      "Epoch 1/5, Loss: 0.146, Accuracy: 0.902\n",
      "Epoch 1/5, Loss: 0.101, Accuracy: 0.902\n",
      "Epoch 1/5, Loss: 0.169, Accuracy: 0.902\n",
      "Epoch 1/5, Loss: 0.165, Accuracy: 0.903\n",
      "Epoch 1/5, Loss: 0.252, Accuracy: 0.903\n",
      "Epoch 1/5, Loss: 0.246, Accuracy: 0.903\n",
      "Epoch 1/5, Loss: 0.329, Accuracy: 0.904\n",
      "Epoch 1/5, Loss: 0.120, Accuracy: 0.904\n",
      "Epoch 1/5, Loss: 0.322, Accuracy: 0.904\n",
      "Epoch 2/5, Loss: 0.260, Accuracy: 0.915\n",
      "Epoch 2/5, Loss: 0.174, Accuracy: 0.914\n",
      "Epoch 2/5, Loss: 0.228, Accuracy: 0.916\n",
      "Epoch 2/5, Loss: 0.334, Accuracy: 0.915\n",
      "Epoch 2/5, Loss: 0.137, Accuracy: 0.916\n",
      "Epoch 2/5, Loss: 0.091, Accuracy: 0.916\n",
      "Epoch 2/5, Loss: 0.228, Accuracy: 0.917\n",
      "Epoch 2/5, Loss: 0.201, Accuracy: 0.916\n",
      "Epoch 2/5, Loss: 0.144, Accuracy: 0.917\n",
      "Epoch 2/5, Loss: 0.264, Accuracy: 0.917\n",
      "Epoch 2/5, Loss: 0.217, Accuracy: 0.917\n",
      "Epoch 2/5, Loss: 0.152, Accuracy: 0.917\n",
      "Epoch 2/5, Loss: 0.191, Accuracy: 0.917\n",
      "Epoch 2/5, Loss: 0.241, Accuracy: 0.917\n",
      "Epoch 2/5, Loss: 0.145, Accuracy: 0.917\n",
      "Epoch 2/5, Loss: 0.337, Accuracy: 0.917\n",
      "Epoch 2/5, Loss: 0.126, Accuracy: 0.917\n",
      "Epoch 2/5, Loss: 0.170, Accuracy: 0.917\n",
      "Epoch 2/5, Loss: 0.276, Accuracy: 0.917\n",
      "Epoch 2/5, Loss: 0.205, Accuracy: 0.917\n",
      "Epoch 2/5, Loss: 0.193, Accuracy: 0.917\n",
      "Epoch 2/5, Loss: 0.105, Accuracy: 0.917\n",
      "Epoch 2/5, Loss: 0.170, Accuracy: 0.917\n",
      "Epoch 2/5, Loss: 0.288, Accuracy: 0.917\n",
      "Epoch 2/5, Loss: 0.127, Accuracy: 0.917\n",
      "Epoch 2/5, Loss: 0.286, Accuracy: 0.917\n",
      "Epoch 2/5, Loss: 0.239, Accuracy: 0.917\n",
      "Epoch 2/5, Loss: 0.187, Accuracy: 0.917\n",
      "Epoch 2/5, Loss: 0.310, Accuracy: 0.917\n",
      "Epoch 2/5, Loss: 0.145, Accuracy: 0.917\n",
      "Epoch 2/5, Loss: 0.137, Accuracy: 0.917\n",
      "Epoch 2/5, Loss: 0.217, Accuracy: 0.917\n",
      "Epoch 2/5, Loss: 0.165, Accuracy: 0.917\n",
      "Epoch 2/5, Loss: 0.239, Accuracy: 0.917\n",
      "Epoch 2/5, Loss: 0.200, Accuracy: 0.917\n",
      "Epoch 2/5, Loss: 0.267, Accuracy: 0.917\n",
      "Epoch 2/5, Loss: 0.119, Accuracy: 0.917\n",
      "Epoch 2/5, Loss: 0.132, Accuracy: 0.917\n",
      "Epoch 2/5, Loss: 0.162, Accuracy: 0.917\n",
      "Epoch 2/5, Loss: 0.082, Accuracy: 0.917\n",
      "Epoch 2/5, Loss: 0.101, Accuracy: 0.917\n",
      "Epoch 2/5, Loss: 0.135, Accuracy: 0.917\n",
      "Epoch 2/5, Loss: 0.220, Accuracy: 0.917\n",
      "Epoch 2/5, Loss: 0.325, Accuracy: 0.917\n",
      "Epoch 2/5, Loss: 0.143, Accuracy: 0.917\n",
      "Epoch 2/5, Loss: 0.143, Accuracy: 0.917\n",
      "Epoch 2/5, Loss: 0.133, Accuracy: 0.917\n",
      "Epoch 2/5, Loss: 0.123, Accuracy: 0.917\n",
      "Epoch 2/5, Loss: 0.280, Accuracy: 0.917\n",
      "Epoch 2/5, Loss: 0.301, Accuracy: 0.917\n",
      "Epoch 2/5, Loss: 0.127, Accuracy: 0.917\n",
      "Epoch 2/5, Loss: 0.208, Accuracy: 0.917\n",
      "Epoch 2/5, Loss: 0.251, Accuracy: 0.917\n",
      "Epoch 2/5, Loss: 0.370, Accuracy: 0.917\n",
      "Epoch 2/5, Loss: 0.237, Accuracy: 0.917\n",
      "Epoch 2/5, Loss: 0.192, Accuracy: 0.917\n",
      "Epoch 3/5, Loss: 0.147, Accuracy: 0.917\n",
      "Epoch 3/5, Loss: 0.127, Accuracy: 0.916\n",
      "Epoch 3/5, Loss: 0.580, Accuracy: 0.917\n",
      "Epoch 3/5, Loss: 0.171, Accuracy: 0.918\n",
      "Epoch 3/5, Loss: 0.128, Accuracy: 0.917\n",
      "Epoch 3/5, Loss: 0.144, Accuracy: 0.918\n",
      "Epoch 3/5, Loss: 0.133, Accuracy: 0.918\n",
      "Epoch 3/5, Loss: 0.250, Accuracy: 0.918\n",
      "Epoch 3/5, Loss: 0.264, Accuracy: 0.917\n",
      "Epoch 3/5, Loss: 0.121, Accuracy: 0.917\n",
      "Epoch 3/5, Loss: 0.199, Accuracy: 0.917\n",
      "Epoch 3/5, Loss: 0.226, Accuracy: 0.917\n",
      "Epoch 3/5, Loss: 0.304, Accuracy: 0.917\n",
      "Epoch 3/5, Loss: 0.150, Accuracy: 0.917\n",
      "Epoch 3/5, Loss: 0.316, Accuracy: 0.917\n",
      "Epoch 3/5, Loss: 0.171, Accuracy: 0.917\n",
      "Epoch 3/5, Loss: 0.192, Accuracy: 0.917\n",
      "Epoch 3/5, Loss: 0.295, Accuracy: 0.916\n",
      "Epoch 3/5, Loss: 0.177, Accuracy: 0.916\n",
      "Epoch 3/5, Loss: 0.210, Accuracy: 0.916\n",
      "Epoch 3/5, Loss: 0.405, Accuracy: 0.917\n",
      "Epoch 3/5, Loss: 0.265, Accuracy: 0.917\n",
      "Epoch 3/5, Loss: 0.304, Accuracy: 0.917\n",
      "Epoch 3/5, Loss: 0.145, Accuracy: 0.917\n",
      "Epoch 3/5, Loss: 0.120, Accuracy: 0.917\n",
      "Epoch 3/5, Loss: 0.200, Accuracy: 0.917\n",
      "Epoch 3/5, Loss: 0.172, Accuracy: 0.917\n",
      "Epoch 3/5, Loss: 0.221, Accuracy: 0.917\n",
      "Epoch 3/5, Loss: 0.142, Accuracy: 0.917\n",
      "Epoch 3/5, Loss: 0.235, Accuracy: 0.917\n",
      "Epoch 3/5, Loss: 0.320, Accuracy: 0.917\n",
      "Epoch 3/5, Loss: 0.298, Accuracy: 0.917\n",
      "Epoch 3/5, Loss: 0.258, Accuracy: 0.917\n",
      "Epoch 3/5, Loss: 0.077, Accuracy: 0.917\n",
      "Epoch 3/5, Loss: 0.256, Accuracy: 0.917\n",
      "Epoch 3/5, Loss: 0.173, Accuracy: 0.917\n",
      "Epoch 3/5, Loss: 0.208, Accuracy: 0.917\n",
      "Epoch 3/5, Loss: 0.474, Accuracy: 0.917\n",
      "Epoch 3/5, Loss: 0.206, Accuracy: 0.917\n",
      "Epoch 3/5, Loss: 0.196, Accuracy: 0.917\n",
      "Epoch 3/5, Loss: 0.236, Accuracy: 0.917\n",
      "Epoch 3/5, Loss: 0.156, Accuracy: 0.917\n",
      "Epoch 3/5, Loss: 0.294, Accuracy: 0.917\n",
      "Epoch 3/5, Loss: 0.126, Accuracy: 0.917\n",
      "Epoch 3/5, Loss: 0.143, Accuracy: 0.917\n",
      "Epoch 3/5, Loss: 0.107, Accuracy: 0.917\n",
      "Epoch 3/5, Loss: 0.410, Accuracy: 0.917\n",
      "Epoch 3/5, Loss: 0.225, Accuracy: 0.917\n",
      "Epoch 3/5, Loss: 0.308, Accuracy: 0.917\n",
      "Epoch 3/5, Loss: 0.251, Accuracy: 0.917\n",
      "Epoch 3/5, Loss: 0.210, Accuracy: 0.917\n",
      "Epoch 3/5, Loss: 0.172, Accuracy: 0.917\n",
      "Epoch 3/5, Loss: 0.187, Accuracy: 0.917\n",
      "Epoch 3/5, Loss: 0.275, Accuracy: 0.917\n",
      "Epoch 3/5, Loss: 0.133, Accuracy: 0.917\n",
      "Epoch 3/5, Loss: 0.229, Accuracy: 0.917\n",
      "Epoch 4/5, Loss: 0.261, Accuracy: 0.919\n",
      "Epoch 4/5, Loss: 0.171, Accuracy: 0.920\n",
      "Epoch 4/5, Loss: 0.083, Accuracy: 0.920\n",
      "Epoch 4/5, Loss: 0.259, Accuracy: 0.920\n",
      "Epoch 4/5, Loss: 0.287, Accuracy: 0.918\n",
      "Epoch 4/5, Loss: 0.111, Accuracy: 0.917\n",
      "Epoch 4/5, Loss: 0.156, Accuracy: 0.917\n",
      "Epoch 4/5, Loss: 0.154, Accuracy: 0.917\n",
      "Epoch 4/5, Loss: 0.188, Accuracy: 0.917\n",
      "Epoch 4/5, Loss: 0.300, Accuracy: 0.917\n",
      "Epoch 4/5, Loss: 0.164, Accuracy: 0.917\n",
      "Epoch 4/5, Loss: 0.276, Accuracy: 0.916\n",
      "Epoch 4/5, Loss: 0.233, Accuracy: 0.917\n",
      "Epoch 4/5, Loss: 0.244, Accuracy: 0.917\n",
      "Epoch 4/5, Loss: 0.227, Accuracy: 0.917\n",
      "Epoch 4/5, Loss: 0.178, Accuracy: 0.917\n",
      "Epoch 4/5, Loss: 0.285, Accuracy: 0.917\n",
      "Epoch 4/5, Loss: 0.242, Accuracy: 0.917\n",
      "Epoch 4/5, Loss: 0.269, Accuracy: 0.917\n",
      "Epoch 4/5, Loss: 0.204, Accuracy: 0.917\n",
      "Epoch 4/5, Loss: 0.271, Accuracy: 0.917\n",
      "Epoch 4/5, Loss: 0.090, Accuracy: 0.917\n",
      "Epoch 4/5, Loss: 0.144, Accuracy: 0.917\n",
      "Epoch 4/5, Loss: 0.150, Accuracy: 0.917\n",
      "Epoch 4/5, Loss: 0.178, Accuracy: 0.917\n",
      "Epoch 4/5, Loss: 0.167, Accuracy: 0.917\n",
      "Epoch 4/5, Loss: 0.223, Accuracy: 0.917\n",
      "Epoch 4/5, Loss: 0.108, Accuracy: 0.917\n",
      "Epoch 4/5, Loss: 0.190, Accuracy: 0.917\n",
      "Epoch 4/5, Loss: 0.189, Accuracy: 0.917\n",
      "Epoch 4/5, Loss: 0.262, Accuracy: 0.917\n",
      "Epoch 4/5, Loss: 0.262, Accuracy: 0.917\n",
      "Epoch 4/5, Loss: 0.216, Accuracy: 0.917\n",
      "Epoch 4/5, Loss: 0.206, Accuracy: 0.917\n",
      "Epoch 4/5, Loss: 0.199, Accuracy: 0.917\n",
      "Epoch 4/5, Loss: 0.294, Accuracy: 0.917\n",
      "Epoch 4/5, Loss: 0.223, Accuracy: 0.917\n"
     ]
    },
    {
     "name": "stdout",
     "output_type": "stream",
     "text": [
      "Epoch 4/5, Loss: 0.181, Accuracy: 0.917\n",
      "Epoch 4/5, Loss: 0.196, Accuracy: 0.917\n",
      "Epoch 4/5, Loss: 0.242, Accuracy: 0.917\n",
      "Epoch 4/5, Loss: 0.121, Accuracy: 0.917\n",
      "Epoch 4/5, Loss: 0.481, Accuracy: 0.917\n",
      "Epoch 4/5, Loss: 0.177, Accuracy: 0.917\n",
      "Epoch 4/5, Loss: 0.145, Accuracy: 0.916\n",
      "Epoch 4/5, Loss: 0.146, Accuracy: 0.916\n",
      "Epoch 4/5, Loss: 0.270, Accuracy: 0.916\n",
      "Epoch 4/5, Loss: 0.181, Accuracy: 0.917\n",
      "Epoch 4/5, Loss: 0.277, Accuracy: 0.916\n",
      "Epoch 4/5, Loss: 0.211, Accuracy: 0.917\n",
      "Epoch 4/5, Loss: 0.353, Accuracy: 0.917\n",
      "Epoch 4/5, Loss: 0.130, Accuracy: 0.917\n",
      "Epoch 4/5, Loss: 0.253, Accuracy: 0.917\n",
      "Epoch 4/5, Loss: 0.217, Accuracy: 0.917\n",
      "Epoch 4/5, Loss: 0.129, Accuracy: 0.917\n",
      "Epoch 4/5, Loss: 0.178, Accuracy: 0.917\n",
      "Epoch 4/5, Loss: 0.110, Accuracy: 0.917\n",
      "Epoch 5/5, Loss: 0.183, Accuracy: 0.921\n",
      "Epoch 5/5, Loss: 0.144, Accuracy: 0.919\n",
      "Epoch 5/5, Loss: 0.321, Accuracy: 0.919\n",
      "Epoch 5/5, Loss: 0.271, Accuracy: 0.920\n",
      "Epoch 5/5, Loss: 0.130, Accuracy: 0.919\n",
      "Epoch 5/5, Loss: 0.184, Accuracy: 0.919\n",
      "Epoch 5/5, Loss: 0.163, Accuracy: 0.919\n",
      "Epoch 5/5, Loss: 0.484, Accuracy: 0.919\n",
      "Epoch 5/5, Loss: 0.233, Accuracy: 0.919\n",
      "Epoch 5/5, Loss: 0.296, Accuracy: 0.919\n",
      "Epoch 5/5, Loss: 0.054, Accuracy: 0.918\n",
      "Epoch 5/5, Loss: 0.167, Accuracy: 0.918\n",
      "Epoch 5/5, Loss: 0.240, Accuracy: 0.918\n",
      "Epoch 5/5, Loss: 0.329, Accuracy: 0.919\n",
      "Epoch 5/5, Loss: 0.155, Accuracy: 0.918\n",
      "Epoch 5/5, Loss: 0.170, Accuracy: 0.918\n",
      "Epoch 5/5, Loss: 0.109, Accuracy: 0.919\n",
      "Epoch 5/5, Loss: 0.217, Accuracy: 0.919\n",
      "Epoch 5/5, Loss: 0.143, Accuracy: 0.918\n",
      "Epoch 5/5, Loss: 0.203, Accuracy: 0.918\n",
      "Epoch 5/5, Loss: 0.255, Accuracy: 0.919\n",
      "Epoch 5/5, Loss: 0.184, Accuracy: 0.918\n",
      "Epoch 5/5, Loss: 0.335, Accuracy: 0.918\n",
      "Epoch 5/5, Loss: 0.139, Accuracy: 0.918\n",
      "Epoch 5/5, Loss: 0.219, Accuracy: 0.918\n",
      "Epoch 5/5, Loss: 0.168, Accuracy: 0.918\n",
      "Epoch 5/5, Loss: 0.199, Accuracy: 0.918\n",
      "Epoch 5/5, Loss: 0.192, Accuracy: 0.918\n",
      "Epoch 5/5, Loss: 0.276, Accuracy: 0.918\n",
      "Epoch 5/5, Loss: 0.115, Accuracy: 0.918\n",
      "Epoch 5/5, Loss: 0.086, Accuracy: 0.918\n",
      "Epoch 5/5, Loss: 0.187, Accuracy: 0.918\n",
      "Epoch 5/5, Loss: 0.182, Accuracy: 0.918\n",
      "Epoch 5/5, Loss: 0.178, Accuracy: 0.918\n",
      "Epoch 5/5, Loss: 0.151, Accuracy: 0.918\n",
      "Epoch 5/5, Loss: 0.241, Accuracy: 0.918\n",
      "Epoch 5/5, Loss: 0.270, Accuracy: 0.918\n",
      "Epoch 5/5, Loss: 0.212, Accuracy: 0.918\n",
      "Epoch 5/5, Loss: 0.085, Accuracy: 0.918\n",
      "Epoch 5/5, Loss: 0.162, Accuracy: 0.918\n",
      "Epoch 5/5, Loss: 0.126, Accuracy: 0.918\n",
      "Epoch 5/5, Loss: 0.082, Accuracy: 0.918\n",
      "Epoch 5/5, Loss: 0.351, Accuracy: 0.918\n",
      "Epoch 5/5, Loss: 0.296, Accuracy: 0.918\n",
      "Epoch 5/5, Loss: 0.271, Accuracy: 0.918\n",
      "Epoch 5/5, Loss: 0.168, Accuracy: 0.918\n",
      "Epoch 5/5, Loss: 0.302, Accuracy: 0.918\n",
      "Epoch 5/5, Loss: 0.089, Accuracy: 0.918\n",
      "Epoch 5/5, Loss: 0.316, Accuracy: 0.918\n",
      "Epoch 5/5, Loss: 0.178, Accuracy: 0.918\n",
      "Epoch 5/5, Loss: 0.178, Accuracy: 0.918\n",
      "Epoch 5/5, Loss: 0.320, Accuracy: 0.918\n",
      "Epoch 5/5, Loss: 0.109, Accuracy: 0.918\n",
      "Epoch 5/5, Loss: 0.156, Accuracy: 0.918\n",
      "Epoch 5/5, Loss: 0.135, Accuracy: 0.918\n",
      "Epoch 5/5, Loss: 0.211, Accuracy: 0.918\n",
      "Finished Training\n"
     ]
    }
   ],
   "source": [
    "model_dir = 'C:\\\\Users\\\\91958\\\\custom_model'\n",
    "num_epochs = 5\n",
    "for epoch in range(num_epochs):\n",
    "    correct = 0\n",
    "    total = 0\n",
    "    for i, data in enumerate(trainloader, 0): \n",
    "        exp_lr_scheduler.step()\n",
    "        \n",
    "        for inputs, labels in trainloader:\n",
    "                inputs = inputs.to(device) \n",
    "                labels = labels.to(device)\n",
    "                \n",
    "                optimizer_ft.zero_grad()\n",
    "                outputs = net(inputs)\n",
    "                loss = criterion(outputs, labels)\n",
    "                loss.backward()\n",
    "                optimizer_ft.step()\n",
    "                \n",
    "                _, predicted = torch.max(outputs.data, 1)\n",
    "                total += labels.size(0)\n",
    "                correct += (predicted == labels).sum().item()\n",
    "\n",
    "        # correct += (outputs == labels).float().sum()\n",
    "        print(\"Epoch {}/{}, Loss: {:.3f}, Accuracy: {:.3f}\".format(epoch+1,num_epochs, loss.item(), correct/total))\n",
    "        \n",
    "        torch.save(net.state_dict(), os.path.join(model_dir, 'epoch-{}.pt'.format(epoch)))\n",
    "\n",
    "print('Finished Training')"
   ]
  },
  {
   "cell_type": "code",
   "execution_count": 60,
   "metadata": {},
   "outputs": [],
   "source": [
    "test_dir = \"C:\\\\Users\\\\91958\\\\elocations_dataset\\\\test\"\n",
    "testset = torchvision.datasets.ImageFolder(test_dir,transform = test_Aug)\n",
    "\n",
    "testloader = torch.utils.data.DataLoader(testset, batch_size=40, shuffle=True, num_workers=2)"
   ]
  },
  {
   "cell_type": "code",
   "execution_count": 61,
   "metadata": {},
   "outputs": [
    {
     "data": {
      "text/plain": [
       "<All keys matched successfully>"
      ]
     },
     "execution_count": 61,
     "metadata": {},
     "output_type": "execute_result"
    }
   ],
   "source": [
    "net.load_state_dict(torch.load('C:\\\\Users\\\\91958\\\\custom_model\\\\epoch-4.pt'))"
   ]
  },
  {
   "cell_type": "code",
   "execution_count": 62,
   "metadata": {},
   "outputs": [
    {
     "data": {
      "text/plain": [
       "ppNet(\n",
       "  (conv1): Conv2d(3, 6, kernel_size=(5, 5), stride=(1, 1))\n",
       "  (bn1): BatchNorm2d(6, eps=1e-05, momentum=0.1, affine=True, track_running_stats=True)\n",
       "  (pool): MaxPool2d(kernel_size=2, stride=2, padding=0, dilation=1, ceil_mode=False)\n",
       "  (conv2): Conv2d(6, 16, kernel_size=(5, 5), stride=(1, 1))\n",
       "  (bn2): BatchNorm2d(16, eps=1e-05, momentum=0.1, affine=True, track_running_stats=True)\n",
       "  (conv3): Conv2d(16, 26, kernel_size=(5, 5), stride=(1, 1))\n",
       "  (conv4): Conv2d(26, 36, kernel_size=(5, 5), stride=(1, 1))\n",
       "  (bn3): BatchNorm2d(26, eps=1e-05, momentum=0.1, affine=True, track_running_stats=True)\n",
       "  (bn4): BatchNorm2d(36, eps=1e-05, momentum=0.1, affine=True, track_running_stats=True)\n",
       "  (fc1): Linear(in_features=3600, out_features=120, bias=True)\n",
       "  (fc2): Linear(in_features=120, out_features=84, bias=True)\n",
       "  (fc3): Linear(in_features=84, out_features=2, bias=True)\n",
       ")"
      ]
     },
     "execution_count": 62,
     "metadata": {},
     "output_type": "execute_result"
    }
   ],
   "source": [
    "net.eval()"
   ]
  },
  {
   "cell_type": "code",
   "execution_count": 63,
   "metadata": {
    "scrolled": true
   },
   "outputs": [
    {
     "name": "stdout",
     "output_type": "stream",
     "text": [
      "Epoch 1/5, Accuracy: 0.742\n",
      "Epoch 1/5, Accuracy: 0.742\n",
      "Epoch 1/5, Accuracy: 0.742\n",
      "Epoch 1/5, Accuracy: 0.742\n",
      "Epoch 1/5, Accuracy: 0.742\n",
      "Epoch 1/5, Accuracy: 0.742\n",
      "Epoch 1/5, Accuracy: 0.742\n",
      "Epoch 1/5, Accuracy: 0.742\n",
      "Epoch 1/5, Accuracy: 0.742\n",
      "Epoch 1/5, Accuracy: 0.742\n",
      "Epoch 2/5, Accuracy: 0.742\n",
      "Epoch 2/5, Accuracy: 0.742\n",
      "Epoch 2/5, Accuracy: 0.742\n",
      "Epoch 2/5, Accuracy: 0.742\n",
      "Epoch 2/5, Accuracy: 0.742\n",
      "Epoch 2/5, Accuracy: 0.742\n",
      "Epoch 2/5, Accuracy: 0.742\n",
      "Epoch 2/5, Accuracy: 0.742\n",
      "Epoch 2/5, Accuracy: 0.742\n",
      "Epoch 2/5, Accuracy: 0.742\n",
      "Epoch 3/5, Accuracy: 0.742\n",
      "Epoch 3/5, Accuracy: 0.742\n",
      "Epoch 3/5, Accuracy: 0.742\n",
      "Epoch 3/5, Accuracy: 0.742\n",
      "Epoch 3/5, Accuracy: 0.742\n",
      "Epoch 3/5, Accuracy: 0.742\n",
      "Epoch 3/5, Accuracy: 0.742\n",
      "Epoch 3/5, Accuracy: 0.742\n",
      "Epoch 3/5, Accuracy: 0.742\n",
      "Epoch 3/5, Accuracy: 0.742\n",
      "Epoch 4/5, Accuracy: 0.742\n",
      "Epoch 4/5, Accuracy: 0.742\n",
      "Epoch 4/5, Accuracy: 0.742\n",
      "Epoch 4/5, Accuracy: 0.742\n",
      "Epoch 4/5, Accuracy: 0.742\n",
      "Epoch 4/5, Accuracy: 0.742\n",
      "Epoch 4/5, Accuracy: 0.742\n",
      "Epoch 4/5, Accuracy: 0.742\n",
      "Epoch 4/5, Accuracy: 0.742\n",
      "Epoch 4/5, Accuracy: 0.742\n",
      "Epoch 5/5, Accuracy: 0.742\n",
      "Epoch 5/5, Accuracy: 0.742\n",
      "Epoch 5/5, Accuracy: 0.742\n",
      "Epoch 5/5, Accuracy: 0.742\n",
      "Epoch 5/5, Accuracy: 0.742\n",
      "Epoch 5/5, Accuracy: 0.742\n",
      "Epoch 5/5, Accuracy: 0.742\n",
      "Epoch 5/5, Accuracy: 0.742\n",
      "Epoch 5/5, Accuracy: 0.742\n",
      "Epoch 5/5, Accuracy: 0.742\n",
      "Finished Testing\n"
     ]
    }
   ],
   "source": [
    "num_epochs = 5\n",
    "for epoch in range(num_epochs):\n",
    "    correct = 0\n",
    "    total = 0\n",
    "    for i, data in enumerate(testloader, 0): \n",
    "        exp_lr_scheduler.step()\n",
    "        net.eval() \n",
    "        \n",
    "        for inputs, labels in testloader:\n",
    "                inputs = inputs.to(device) \n",
    "                labels = labels.to(device)\n",
    "                \n",
    "                optimizer_ft.zero_grad()\n",
    "                outputs = net(inputs)\n",
    "                \n",
    "                _, predicted = torch.max(outputs.data, 1)\n",
    "                total += labels.size(0)\n",
    "                correct += (predicted == labels).sum().item()\n",
    "\n",
    "        # correct += (outputs == labels).float().sum()\n",
    "        print(\"Epoch {}/{}, Accuracy: {:.3f}\".format(epoch+1,num_epochs, correct/total))\n",
    "\n",
    "print('Finished Testing')"
   ]
  },
  {
   "cell_type": "code",
   "execution_count": 64,
   "metadata": {},
   "outputs": [],
   "source": [
    "from PIL import Image\n",
    "from torch.autograd import Variable\n",
    "\n",
    "imsize = (224,224)\n",
    "loader = transforms.Compose([transforms.Scale(imsize), transforms.ToTensor()])\n",
    "\n",
    "def image_loader(image_name):\n",
    "    \"\"\"load image, returns cuda tensor\"\"\"\n",
    "    image = Image.open(image_name)\n",
    "    image = loader(image).float()\n",
    "    image = Variable(image, requires_grad=True)\n",
    "    image = image.unsqueeze(0)\n",
    "    return image.cuda()"
   ]
  },
  {
   "cell_type": "code",
   "execution_count": 65,
   "metadata": {},
   "outputs": [],
   "source": [
    "image = image_loader('C:\\\\Users\\\\91958\\\\food1.jpeg')\n",
    "# print(image)\n",
    "output = net(image)"
   ]
  },
  {
   "cell_type": "code",
   "execution_count": 66,
   "metadata": {},
   "outputs": [
    {
     "data": {
      "text/plain": [
       "0"
      ]
     },
     "execution_count": 66,
     "metadata": {},
     "output_type": "execute_result"
    }
   ],
   "source": [
    "output.cpu().data.numpy().argmax()"
   ]
  },
  {
   "cell_type": "code",
   "execution_count": 73,
   "metadata": {},
   "outputs": [],
   "source": [
    "image1 = image_loader('C:\\\\Users\\\\91958\\\\humans.jpeg')\n",
    "output1 = net(image1)"
   ]
  },
  {
   "cell_type": "code",
   "execution_count": 74,
   "metadata": {},
   "outputs": [
    {
     "data": {
      "text/plain": [
       "0"
      ]
     },
     "execution_count": 74,
     "metadata": {},
     "output_type": "execute_result"
    }
   ],
   "source": [
    "output1.cpu().data.numpy().argmax()"
   ]
  },
  {
   "cell_type": "code",
   "execution_count": 69,
   "metadata": {},
   "outputs": [],
   "source": [
    "image2 = image_loader('C:\\\\Users\\\\91958\\\\19.jpeg')\n",
    "# print(image)\n",
    "output2 = net(image2)"
   ]
  },
  {
   "cell_type": "code",
   "execution_count": 70,
   "metadata": {},
   "outputs": [
    {
     "data": {
      "text/plain": [
       "1"
      ]
     },
     "execution_count": 70,
     "metadata": {},
     "output_type": "execute_result"
    }
   ],
   "source": [
    "output2.cpu().data.numpy().argmax()"
   ]
  },
  {
   "cell_type": "code",
   "execution_count": 71,
   "metadata": {},
   "outputs": [],
   "source": [
    "image3 = image_loader('C:\\\\Users\\\\91958\\\\food3.jpeg')\n",
    "# print(image)\n",
    "output3 = net(image3)"
   ]
  },
  {
   "cell_type": "code",
   "execution_count": 72,
   "metadata": {},
   "outputs": [
    {
     "data": {
      "text/plain": [
       "0"
      ]
     },
     "execution_count": 72,
     "metadata": {},
     "output_type": "execute_result"
    }
   ],
   "source": [
    "output3.cpu().data.numpy().argmax()"
   ]
  },
  {
   "cell_type": "code",
   "execution_count": null,
   "metadata": {},
   "outputs": [],
   "source": []
  }
 ],
 "metadata": {
  "kernelspec": {
   "display_name": "Python 3",
   "language": "python",
   "name": "python3"
  },
  "language_info": {
   "codemirror_mode": {
    "name": "ipython",
    "version": 3
   },
   "file_extension": ".py",
   "mimetype": "text/x-python",
   "name": "python",
   "nbconvert_exporter": "python",
   "pygments_lexer": "ipython3",
   "version": "3.7.6"
  }
 },
 "nbformat": 4,
 "nbformat_minor": 4
}
