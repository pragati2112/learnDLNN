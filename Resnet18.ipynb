{
  "nbformat": 4,
  "nbformat_minor": 0,
  "metadata": {
    "colab": {
      "name": "Resnet18.ipynb",
      "provenance": [],
      "collapsed_sections": []
    },
    "kernelspec": {
      "name": "python3",
      "display_name": "Python 3"
    }
  },
  "cells": [
    {
      "cell_type": "code",
      "metadata": {
        "id": "-CERa-hQkFZO",
        "colab_type": "code",
        "colab": {}
      },
      "source": [
        ""
      ],
      "execution_count": 0,
      "outputs": []
    },
    {
      "cell_type": "code",
      "metadata": {
        "id": "-xj0_jpSk1-4",
        "colab_type": "code",
        "outputId": "6893cf69-dd6f-4cd3-f8ac-c8013c06570c",
        "colab": {
          "base_uri": "https://localhost:8080/",
          "height": 121
        }
      },
      "source": [
        "from google.colab import drive\n",
        "drive.mount('/content/drive')"
      ],
      "execution_count": 0,
      "outputs": [
        {
          "output_type": "stream",
          "text": [
            "Go to this URL in a browser: https://accounts.google.com/o/oauth2/auth?client_id=947318989803-6bn6qk8qdgf4n4g3pfee6491hc0brc4i.apps.googleusercontent.com&redirect_uri=urn%3aietf%3awg%3aoauth%3a2.0%3aoob&response_type=code&scope=email%20https%3a%2f%2fwww.googleapis.com%2fauth%2fdocs.test%20https%3a%2f%2fwww.googleapis.com%2fauth%2fdrive%20https%3a%2f%2fwww.googleapis.com%2fauth%2fdrive.photos.readonly%20https%3a%2f%2fwww.googleapis.com%2fauth%2fpeopleapi.readonly\n",
            "\n",
            "Enter your authorization code:\n",
            "··········\n",
            "Mounted at /content/drive\n"
          ],
          "name": "stdout"
        }
      ]
    },
    {
      "cell_type": "code",
      "metadata": {
        "id": "tUAM8FSklcUO",
        "colab_type": "code",
        "colab": {}
      },
      "source": [
        "from sklearn.metrics import accuracy_score, classification_report, confusion_matrix\n",
        "from sklearn.model_selection import train_test_split\n",
        "from PIL import Image\n",
        "import torchvision\n",
        "import matplotlib.pyplot as plt\n",
        "import numpy as np\n",
        "import torch\n",
        "import os\n",
        "import time\n",
        "import random\n",
        "%matplotlib inline"
      ],
      "execution_count": 0,
      "outputs": []
    },
    {
      "cell_type": "code",
      "metadata": {
        "id": "Bhv2u383lsgo",
        "colab_type": "code",
        "colab": {}
      },
      "source": [
        "from __future__ import print_function, division\n",
        "\n",
        "import torch.nn as nn\n",
        "import torch.optim as optim\n",
        "import numpy as np\n",
        "from torch.optim import lr_scheduler\n",
        "from torchvision import datasets, models, transforms"
      ],
      "execution_count": 0,
      "outputs": []
    },
    {
      "cell_type": "code",
      "metadata": {
        "id": "iJsG-DrDlw0j",
        "colab_type": "code",
        "colab": {}
      },
      "source": [
        "train_Aug = torchvision.transforms.Compose([torchvision.transforms.Resize((224, 224)),    \n",
        "                                            torchvision.transforms.RandomRotation((-20, 20)),  \n",
        "                                            torchvision.transforms.RandomAffine(0, translate=None, scale=[0.7, 1.3], shear=None, resample=False, fillcolor=0), \n",
        "                                            torchvision.transforms.ToTensor()])\n",
        "test_Aug = torchvision.transforms.Compose([torchvision.transforms.Resize((224, 224)),  \n",
        "                                           torchvision.transforms.ToTensor()])"
      ],
      "execution_count": 0,
      "outputs": []
    },
    {
      "cell_type": "code",
      "metadata": {
        "id": "9RY39rftlztX",
        "colab_type": "code",
        "outputId": "1fa3aad3-f806-4482-d79e-34dd8c6d0374",
        "colab": {
          "base_uri": "https://localhost:8080/",
          "height": 34
        }
      },
      "source": [
        "base_dir = \"/content/drive/My Drive/chest_xray_covid19_dataset\"\n",
        "os.listdir(base_dir)"
      ],
      "execution_count": 0,
      "outputs": [
        {
          "output_type": "execute_result",
          "data": {
            "text/plain": [
              "['covid', 'normal']"
            ]
          },
          "metadata": {
            "tags": []
          },
          "execution_count": 5
        }
      ]
    },
    {
      "cell_type": "code",
      "metadata": {
        "id": "gVS1FXJUmDq0",
        "colab_type": "code",
        "colab": {}
      },
      "source": [
        "trainset = torchvision.datasets.ImageFolder(base_dir,transform = train_Aug)\n",
        "trainloader = torch.utils.data.DataLoader(trainset, batch_size=3, shuffle=True, num_workers=2)\n",
        "\n",
        "device = torch.device(\"cuda\" if torch.cuda.is_available() else \"cpu\")"
      ],
      "execution_count": 0,
      "outputs": []
    },
    {
      "cell_type": "code",
      "metadata": {
        "id": "xBsf_4wdmRee",
        "colab_type": "code",
        "outputId": "3c285c71-40ab-4869-9908-6cbb215fbd9f",
        "colab": {
          "base_uri": "https://localhost:8080/",
          "height": 34
        }
      },
      "source": [
        "class_names = trainset.classes\n",
        "len(class_names)"
      ],
      "execution_count": 0,
      "outputs": [
        {
          "output_type": "execute_result",
          "data": {
            "text/plain": [
              "2"
            ]
          },
          "metadata": {
            "tags": []
          },
          "execution_count": 12
        }
      ]
    },
    {
      "cell_type": "code",
      "metadata": {
        "id": "okUw6FWhmVWf",
        "colab_type": "code",
        "outputId": "4e18f220-74b8-4141-8dac-bb1c2b7e27e7",
        "colab": {
          "base_uri": "https://localhost:8080/",
          "height": 164
        }
      },
      "source": [
        "def imshow(img):\n",
        "    img = img / 2 + 0.5     # unnormalize\n",
        "    npimg = img.numpy()\n",
        "    plt.imshow(np.transpose(npimg, (1, 2, 0)))\n",
        "    plt.show()\n",
        "\n",
        "\n",
        "# get some random training images\n",
        "dataiter = iter(trainloader)\n",
        "images, labels = dataiter.next()\n",
        "imshow(torchvision.utils.make_grid(images))"
      ],
      "execution_count": 0,
      "outputs": [
        {
          "output_type": "display_data",
          "data": {
            "image/png": "[encoded data removed]",
            "text/plain": [
              "<Figure size 432x288 with 1 Axes>"
            ]
          },
          "metadata": {
            "tags": [],
            "needs_background": "light"
          }
        }
      ]
    },
    {
      "cell_type": "code",
      "metadata": {
        "id": "irHpOhvPmad3",
        "colab_type": "code",
        "colab": {}
      },
      "source": [
        "my_resnet_model = models.resnet18(pretrained=True)\n",
        "\n",
        "num_features = my_resnet_model.fc.in_features\n",
        "my_resnet_model.fc = nn.Linear(num_features, 2)"
      ],
      "execution_count": 0,
      "outputs": []
    },
    {
      "cell_type": "code",
      "metadata": {
        "id": "_SHntNTSmg3B",
        "colab_type": "code",
        "colab": {}
      },
      "source": [
        "my_resnet_model = my_resnet_model.to(device)\n",
        "criterion = nn.CrossEntropyLoss()\n",
        "\n",
        "# Observe that all parameters are being optimized\n",
        "optimizer_ft = optim.SGD(my_resnet_model.parameters(), lr=0.001, momentum=0.9)\n",
        "\n",
        "# Decay LR by a factor of 0.1 every 7 epochs\n",
        "exp_lr_scheduler = lr_scheduler.StepLR(optimizer_ft, step_size=7, gamma=0.1)"
      ],
      "execution_count": 0,
      "outputs": []
    },
    {
      "cell_type": "code",
      "metadata": {
        "id": "vHaxSMkbmn-j",
        "colab_type": "code",
        "outputId": "2f328d09-b64a-4bf8-b62c-69da215905a3",
        "colab": {
          "base_uri": "https://localhost:8080/",
          "height": 1000
        }
      },
      "source": [
        "num_epochs = 10\n",
        "for epoch in range(num_epochs):\n",
        "    correct = 0\n",
        "    total = 0\n",
        "    for i, data in enumerate(trainloader, 0): \n",
        "        exp_lr_scheduler.step()\n",
        "        my_resnet_model.train()  # Set model to training mode\n",
        "        \n",
        "        for inputs, labels in trainloader:\n",
        "                inputs = inputs.to(device) \n",
        "                labels = labels.to(device)\n",
        "                \n",
        "                optimizer_ft.zero_grad()\n",
        "                outputs = my_resnet_model(inputs)\n",
        "                loss = criterion(outputs, labels)\n",
        "                loss.backward()\n",
        "                optimizer_ft.step()\n",
        "                \n",
        "                _, predicted = torch.max(outputs.data, 1)\n",
        "                total += labels.size(0)\n",
        "                correct += (predicted == labels).sum().item()\n",
        "\n",
        "        # correct += (outputs == labels).float().sum()\n",
        "        print(\"Epoch {}/{}, Loss: {:.3f}, Accuracy: {:.3f}\".format(epoch+1,num_epochs, loss.item(), correct/total))\n",
        "\n",
        "print('Finished Training')"
      ],
      "execution_count": 0,
      "outputs": [
        {
          "output_type": "stream",
          "text": [
            "Epoch 1/10, Loss: 0.823, Accuracy: 0.920\n",
            "Epoch 1/10, Loss: 0.724, Accuracy: 0.880\n",
            "Epoch 1/10, Loss: 0.002, Accuracy: 0.860\n",
            "Epoch 1/10, Loss: 0.001, Accuracy: 0.870\n",
            "Epoch 1/10, Loss: 0.004, Accuracy: 0.868\n",
            "Epoch 1/10, Loss: 0.676, Accuracy: 0.863\n",
            "Epoch 1/10, Loss: 0.004, Accuracy: 0.863\n",
            "Epoch 1/10, Loss: 0.003, Accuracy: 0.868\n",
            "Epoch 1/10, Loss: 0.001, Accuracy: 0.876\n",
            "Epoch 1/10, Loss: 0.001, Accuracy: 0.876\n",
            "Epoch 1/10, Loss: 0.674, Accuracy: 0.873\n",
            "Epoch 1/10, Loss: 0.004, Accuracy: 0.872\n",
            "Epoch 1/10, Loss: 0.009, Accuracy: 0.872\n",
            "Epoch 1/10, Loss: 0.932, Accuracy: 0.874\n",
            "Epoch 1/10, Loss: 0.001, Accuracy: 0.883\n",
            "Epoch 1/10, Loss: 0.003, Accuracy: 0.881\n",
            "Epoch 1/10, Loss: 0.911, Accuracy: 0.876\n",
            "Epoch 2/10, Loss: 0.007, Accuracy: 0.860\n",
            "Epoch 2/10, Loss: 1.198, Accuracy: 0.900\n",
            "Epoch 2/10, Loss: 0.783, Accuracy: 0.880\n",
            "Epoch 2/10, Loss: 0.001, Accuracy: 0.895\n",
            "Epoch 2/10, Loss: 0.001, Accuracy: 0.888\n",
            "Epoch 2/10, Loss: 0.011, Accuracy: 0.887\n",
            "Epoch 2/10, Loss: 0.898, Accuracy: 0.886\n",
            "Epoch 2/10, Loss: 1.028, Accuracy: 0.882\n",
            "Epoch 2/10, Loss: 0.714, Accuracy: 0.867\n",
            "Epoch 2/10, Loss: 1.060, Accuracy: 0.864\n",
            "Epoch 2/10, Loss: 0.002, Accuracy: 0.864\n",
            "Epoch 2/10, Loss: 1.742, Accuracy: 0.865\n",
            "Epoch 2/10, Loss: 0.822, Accuracy: 0.866\n",
            "Epoch 2/10, Loss: 0.001, Accuracy: 0.869\n",
            "Epoch 2/10, Loss: 0.001, Accuracy: 0.869\n",
            "Epoch 2/10, Loss: 0.670, Accuracy: 0.863\n",
            "Epoch 2/10, Loss: 0.001, Accuracy: 0.864\n",
            "Epoch 3/10, Loss: 0.005, Accuracy: 0.940\n",
            "Epoch 3/10, Loss: 0.000, Accuracy: 0.940\n",
            "Epoch 3/10, Loss: 0.713, Accuracy: 0.927\n",
            "Epoch 3/10, Loss: 1.145, Accuracy: 0.890\n",
            "Epoch 3/10, Loss: 0.002, Accuracy: 0.912\n",
            "Epoch 3/10, Loss: 0.688, Accuracy: 0.903\n",
            "Epoch 3/10, Loss: 0.003, Accuracy: 0.903\n",
            "Epoch 3/10, Loss: 0.001, Accuracy: 0.905\n",
            "Epoch 3/10, Loss: 0.001, Accuracy: 0.902\n",
            "Epoch 3/10, Loss: 0.001, Accuracy: 0.890\n",
            "Epoch 3/10, Loss: 0.877, Accuracy: 0.895\n",
            "Epoch 3/10, Loss: 0.956, Accuracy: 0.893\n",
            "Epoch 3/10, Loss: 0.002, Accuracy: 0.888\n",
            "Epoch 3/10, Loss: 0.002, Accuracy: 0.891\n",
            "Epoch 3/10, Loss: 1.209, Accuracy: 0.892\n",
            "Epoch 3/10, Loss: 0.026, Accuracy: 0.889\n",
            "Epoch 3/10, Loss: 0.003, Accuracy: 0.889\n",
            "Epoch 4/10, Loss: 0.006, Accuracy: 0.880\n",
            "Epoch 4/10, Loss: 2.161, Accuracy: 0.860\n",
            "Epoch 4/10, Loss: 0.821, Accuracy: 0.840\n",
            "Epoch 4/10, Loss: 0.741, Accuracy: 0.840\n",
            "Epoch 4/10, Loss: 0.968, Accuracy: 0.844\n",
            "Epoch 4/10, Loss: 0.718, Accuracy: 0.860\n",
            "Epoch 4/10, Loss: 0.980, Accuracy: 0.849\n",
            "Epoch 4/10, Loss: 0.009, Accuracy: 0.858\n",
            "Epoch 4/10, Loss: 0.784, Accuracy: 0.853\n",
            "Epoch 4/10, Loss: 0.706, Accuracy: 0.858\n",
            "Epoch 4/10, Loss: 0.002, Accuracy: 0.856\n",
            "Epoch 4/10, Loss: 0.707, Accuracy: 0.858\n",
            "Epoch 4/10, Loss: 0.734, Accuracy: 0.866\n",
            "Epoch 4/10, Loss: 0.005, Accuracy: 0.871\n",
            "Epoch 4/10, Loss: 0.003, Accuracy: 0.875\n",
            "Epoch 4/10, Loss: 0.002, Accuracy: 0.871\n",
            "Epoch 4/10, Loss: 0.804, Accuracy: 0.865\n",
            "Epoch 5/10, Loss: 1.078, Accuracy: 0.800\n",
            "Epoch 5/10, Loss: 0.759, Accuracy: 0.790\n",
            "Epoch 5/10, Loss: 0.711, Accuracy: 0.820\n",
            "Epoch 5/10, Loss: 0.745, Accuracy: 0.840\n",
            "Epoch 5/10, Loss: 0.848, Accuracy: 0.856\n",
            "Epoch 5/10, Loss: 0.001, Accuracy: 0.863\n",
            "Epoch 5/10, Loss: 0.689, Accuracy: 0.869\n",
            "Epoch 5/10, Loss: 0.001, Accuracy: 0.858\n",
            "Epoch 5/10, Loss: 0.002, Accuracy: 0.871\n",
            "Epoch 5/10, Loss: 0.002, Accuracy: 0.876\n",
            "Epoch 5/10, Loss: 0.763, Accuracy: 0.875\n",
            "Epoch 5/10, Loss: 0.005, Accuracy: 0.870\n",
            "Epoch 5/10, Loss: 0.809, Accuracy: 0.869\n",
            "Epoch 5/10, Loss: 0.769, Accuracy: 0.871\n",
            "Epoch 5/10, Loss: 0.761, Accuracy: 0.872\n",
            "Epoch 5/10, Loss: 0.005, Accuracy: 0.877\n",
            "Epoch 5/10, Loss: 1.007, Accuracy: 0.880\n",
            "Epoch 6/10, Loss: 0.663, Accuracy: 0.780\n",
            "Epoch 6/10, Loss: 1.394, Accuracy: 0.830\n",
            "Epoch 6/10, Loss: 1.073, Accuracy: 0.840\n",
            "Epoch 6/10, Loss: 0.002, Accuracy: 0.845\n",
            "Epoch 6/10, Loss: 0.003, Accuracy: 0.864\n",
            "Epoch 6/10, Loss: 1.626, Accuracy: 0.860\n",
            "Epoch 6/10, Loss: 0.704, Accuracy: 0.866\n",
            "Epoch 6/10, Loss: 0.894, Accuracy: 0.865\n",
            "Epoch 6/10, Loss: 0.799, Accuracy: 0.864\n",
            "Epoch 6/10, Loss: 1.030, Accuracy: 0.862\n",
            "Epoch 6/10, Loss: 0.812, Accuracy: 0.851\n",
            "Epoch 6/10, Loss: 0.929, Accuracy: 0.852\n",
            "Epoch 6/10, Loss: 0.002, Accuracy: 0.857\n",
            "Epoch 6/10, Loss: 0.001, Accuracy: 0.857\n",
            "Epoch 6/10, Loss: 0.682, Accuracy: 0.855\n",
            "Epoch 6/10, Loss: 0.004, Accuracy: 0.860\n",
            "Epoch 6/10, Loss: 1.025, Accuracy: 0.858\n",
            "Epoch 7/10, Loss: 0.014, Accuracy: 0.900\n",
            "Epoch 7/10, Loss: 0.002, Accuracy: 0.860\n",
            "Epoch 7/10, Loss: 0.005, Accuracy: 0.873\n",
            "Epoch 7/10, Loss: 0.772, Accuracy: 0.865\n",
            "Epoch 7/10, Loss: 1.592, Accuracy: 0.880\n",
            "Epoch 7/10, Loss: 2.242, Accuracy: 0.880\n",
            "Epoch 7/10, Loss: 0.934, Accuracy: 0.880\n",
            "Epoch 7/10, Loss: 0.843, Accuracy: 0.890\n",
            "Epoch 7/10, Loss: 0.002, Accuracy: 0.880\n",
            "Epoch 7/10, Loss: 0.797, Accuracy: 0.880\n",
            "Epoch 7/10, Loss: 0.001, Accuracy: 0.884\n",
            "Epoch 7/10, Loss: 0.002, Accuracy: 0.892\n",
            "Epoch 7/10, Loss: 0.896, Accuracy: 0.894\n",
            "Epoch 7/10, Loss: 0.683, Accuracy: 0.900\n",
            "Epoch 7/10, Loss: 1.183, Accuracy: 0.901\n",
            "Epoch 7/10, Loss: 0.009, Accuracy: 0.897\n",
            "Epoch 7/10, Loss: 1.537, Accuracy: 0.891\n",
            "Epoch 8/10, Loss: 0.753, Accuracy: 0.820\n",
            "Epoch 8/10, Loss: 0.003, Accuracy: 0.850\n",
            "Epoch 8/10, Loss: 0.714, Accuracy: 0.840\n",
            "Epoch 8/10, Loss: 0.760, Accuracy: 0.805\n",
            "Epoch 8/10, Loss: 0.001, Accuracy: 0.824\n",
            "Epoch 8/10, Loss: 0.003, Accuracy: 0.837\n",
            "Epoch 8/10, Loss: 0.682, Accuracy: 0.846\n",
            "Epoch 8/10, Loss: 0.007, Accuracy: 0.835\n",
            "Epoch 8/10, Loss: 0.002, Accuracy: 0.831\n",
            "Epoch 8/10, Loss: 0.001, Accuracy: 0.838\n",
            "Epoch 8/10, Loss: 0.683, Accuracy: 0.838\n",
            "Epoch 8/10, Loss: 0.006, Accuracy: 0.847\n",
            "Epoch 8/10, Loss: 0.004, Accuracy: 0.851\n",
            "Epoch 8/10, Loss: 0.774, Accuracy: 0.854\n",
            "Epoch 8/10, Loss: 0.001, Accuracy: 0.851\n",
            "Epoch 8/10, Loss: 0.001, Accuracy: 0.850\n",
            "Epoch 8/10, Loss: 0.000, Accuracy: 0.849\n",
            "Epoch 9/10, Loss: 0.002, Accuracy: 0.960\n",
            "Epoch 9/10, Loss: 0.708, Accuracy: 0.910\n",
            "Epoch 9/10, Loss: 0.002, Accuracy: 0.920\n",
            "Epoch 9/10, Loss: 0.784, Accuracy: 0.935\n",
            "Epoch 9/10, Loss: 0.708, Accuracy: 0.912\n",
            "Epoch 9/10, Loss: 0.002, Accuracy: 0.903\n",
            "Epoch 9/10, Loss: 0.001, Accuracy: 0.894\n",
            "Epoch 9/10, Loss: 0.699, Accuracy: 0.887\n",
            "Epoch 9/10, Loss: 0.001, Accuracy: 0.884\n",
            "Epoch 9/10, Loss: 0.001, Accuracy: 0.880\n",
            "Epoch 9/10, Loss: 0.715, Accuracy: 0.885\n",
            "Epoch 9/10, Loss: 0.003, Accuracy: 0.892\n",
            "Epoch 9/10, Loss: 0.003, Accuracy: 0.894\n",
            "Epoch 9/10, Loss: 0.651, Accuracy: 0.893\n",
            "Epoch 9/10, Loss: 0.001, Accuracy: 0.885\n",
            "Epoch 9/10, Loss: 0.001, Accuracy: 0.882\n",
            "Epoch 9/10, Loss: 1.319, Accuracy: 0.876\n",
            "Epoch 10/10, Loss: 0.001, Accuracy: 0.900\n",
            "Epoch 10/10, Loss: 0.008, Accuracy: 0.910\n",
            "Epoch 10/10, Loss: 0.688, Accuracy: 0.893\n",
            "Epoch 10/10, Loss: 0.002, Accuracy: 0.860\n",
            "Epoch 10/10, Loss: 1.018, Accuracy: 0.856\n",
            "Epoch 10/10, Loss: 0.730, Accuracy: 0.860\n",
            "Epoch 10/10, Loss: 0.895, Accuracy: 0.854\n",
            "Epoch 10/10, Loss: 0.804, Accuracy: 0.855\n",
            "Epoch 10/10, Loss: 0.671, Accuracy: 0.864\n",
            "Epoch 10/10, Loss: 0.001, Accuracy: 0.868\n",
            "Epoch 10/10, Loss: 0.002, Accuracy: 0.871\n",
            "Epoch 10/10, Loss: 0.723, Accuracy: 0.872\n",
            "Epoch 10/10, Loss: 0.001, Accuracy: 0.878\n",
            "Epoch 10/10, Loss: 0.672, Accuracy: 0.881\n",
            "Epoch 10/10, Loss: 0.990, Accuracy: 0.880\n",
            "Epoch 10/10, Loss: 0.002, Accuracy: 0.880\n",
            "Epoch 10/10, Loss: 0.773, Accuracy: 0.885\n",
            "Finished Training\n"
          ],
          "name": "stdout"
        }
      ]
    },
    {
      "cell_type": "code",
      "metadata": {
        "id": "L_fsJaB4tXaK",
        "colab_type": "code",
        "colab": {}
      },
      "source": [
        ""
      ],
      "execution_count": 0,
      "outputs": []
    }
  ]
}