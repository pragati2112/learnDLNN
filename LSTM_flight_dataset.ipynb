{
  "nbformat": 4,
  "nbformat_minor": 0,
  "metadata": {
    "kernelspec": {
      "display_name": "Python 3",
      "language": "python",
      "name": "python3"
    },
    "language_info": {
      "codemirror_mode": {
        "name": "ipython",
        "version": 3
      },
      "file_extension": ".py",
      "mimetype": "text/x-python",
      "name": "python",
      "nbconvert_exporter": "python",
      "pygments_lexer": "ipython3",
      "version": "3.7.6"
    },
    "colab": {
      "name": "LSTM_flight_dataset.ipynb",
      "provenance": []
    }
  },
  "cells": [
    {
      "cell_type": "code",
      "metadata": {
        "id": "zP5CmP6dUo3v",
        "colab_type": "code",
        "colab": {}
      },
      "source": [
        "import torch\n",
        "import torch.nn as nn\n",
        "\n",
        "import seaborn as sns\n",
        "import numpy as np\n",
        "import pandas as pd\n",
        "import matplotlib.pyplot as plt\n",
        "%matplotlib inline"
      ],
      "execution_count": 0,
      "outputs": []
    },
    {
      "cell_type": "code",
      "metadata": {
        "id": "dDLAowjdUo35",
        "colab_type": "code",
        "colab": {},
        "outputId": "efcef8fc-90bb-4626-a6b6-6c4a16499def"
      },
      "source": [
        "!pip3 install BeautifulSoup4"
      ],
      "execution_count": 0,
      "outputs": [
        {
          "output_type": "stream",
          "text": [
            "Collecting BeautifulSoup4\n",
            "  Downloading beautifulsoup4-4.9.1-py3-none-any.whl (115 kB)\n",
            "Collecting soupsieve>1.2\n",
            "  Downloading soupsieve-2.0.1-py3-none-any.whl (32 kB)\n",
            "Installing collected packages: soupsieve, BeautifulSoup4\n",
            "Successfully installed BeautifulSoup4-4.9.1 soupsieve-2.0.1\n"
          ],
          "name": "stdout"
        },
        {
          "output_type": "stream",
          "text": [
            "WARNING: You are using pip version 20.0.2; however, version 20.1 is available.\n",
            "You should consider upgrading via the 'C:\\Users\\91958\\Envs\\pytorch\\Scripts\\python.exe -m pip install --upgrade pip' command.\n"
          ],
          "name": "stderr"
        }
      ]
    },
    {
      "cell_type": "code",
      "metadata": {
        "id": "BuTXxx36Uo4C",
        "colab_type": "code",
        "colab": {},
        "outputId": "290b7837-5028-47f5-bc4b-f1ac3fb8bc08"
      },
      "source": [
        "sns.get_dataset_names()"
      ],
      "execution_count": 0,
      "outputs": [
        {
          "output_type": "stream",
          "text": [
            "c:\\users\\91958\\envs\\pytorch\\lib\\site-packages\\seaborn\\utils.py:384: GuessedAtParserWarning: No parser was explicitly specified, so I'm using the best available HTML parser for this system (\"html.parser\"). This usually isn't a problem, but if you run this code on another system, or in a different virtual environment, it may use a different parser and behave differently.\n",
            "\n",
            "The code that caused this warning is on line 384 of the file c:\\users\\91958\\envs\\pytorch\\lib\\site-packages\\seaborn\\utils.py. To get rid of this warning, pass the additional argument 'features=\"html.parser\"' to the BeautifulSoup constructor.\n",
            "\n",
            "  gh_list = BeautifulSoup(http)\n"
          ],
          "name": "stderr"
        },
        {
          "output_type": "execute_result",
          "data": {
            "text/plain": [
              "['anscombe',\n",
              " 'attention',\n",
              " 'brain_networks',\n",
              " 'car_crashes',\n",
              " 'diamonds',\n",
              " 'dots',\n",
              " 'exercise',\n",
              " 'flights',\n",
              " 'fmri',\n",
              " 'gammas',\n",
              " 'iris',\n",
              " 'mpg',\n",
              " 'planets',\n",
              " 'tips',\n",
              " 'titanic']"
            ]
          },
          "metadata": {
            "tags": []
          },
          "execution_count": 5
        }
      ]
    },
    {
      "cell_type": "code",
      "metadata": {
        "id": "8kR_08eJUo4J",
        "colab_type": "code",
        "colab": {},
        "outputId": "48d11a88-3f95-4c9f-e802-00bba078ebfd"
      },
      "source": [
        "flight_data = sns.load_dataset(\"flights\")\n",
        "flight_data.head()"
      ],
      "execution_count": 0,
      "outputs": [
        {
          "output_type": "execute_result",
          "data": {
            "text/html": [
              "<div>\n",
              "<style scoped>\n",
              "    .dataframe tbody tr th:only-of-type {\n",
              "        vertical-align: middle;\n",
              "    }\n",
              "\n",
              "    .dataframe tbody tr th {\n",
              "        vertical-align: top;\n",
              "    }\n",
              "\n",
              "    .dataframe thead th {\n",
              "        text-align: right;\n",
              "    }\n",
              "</style>\n",
              "<table border=\"1\" class=\"dataframe\">\n",
              "  <thead>\n",
              "    <tr style=\"text-align: right;\">\n",
              "      <th></th>\n",
              "      <th>year</th>\n",
              "      <th>month</th>\n",
              "      <th>passengers</th>\n",
              "    </tr>\n",
              "  </thead>\n",
              "  <tbody>\n",
              "    <tr>\n",
              "      <th>0</th>\n",
              "      <td>1949</td>\n",
              "      <td>January</td>\n",
              "      <td>112</td>\n",
              "    </tr>\n",
              "    <tr>\n",
              "      <th>1</th>\n",
              "      <td>1949</td>\n",
              "      <td>February</td>\n",
              "      <td>118</td>\n",
              "    </tr>\n",
              "    <tr>\n",
              "      <th>2</th>\n",
              "      <td>1949</td>\n",
              "      <td>March</td>\n",
              "      <td>132</td>\n",
              "    </tr>\n",
              "    <tr>\n",
              "      <th>3</th>\n",
              "      <td>1949</td>\n",
              "      <td>April</td>\n",
              "      <td>129</td>\n",
              "    </tr>\n",
              "    <tr>\n",
              "      <th>4</th>\n",
              "      <td>1949</td>\n",
              "      <td>May</td>\n",
              "      <td>121</td>\n",
              "    </tr>\n",
              "  </tbody>\n",
              "</table>\n",
              "</div>"
            ],
            "text/plain": [
              "   year     month  passengers\n",
              "0  1949   January         112\n",
              "1  1949  February         118\n",
              "2  1949     March         132\n",
              "3  1949     April         129\n",
              "4  1949       May         121"
            ]
          },
          "metadata": {
            "tags": []
          },
          "execution_count": 6
        }
      ]
    },
    {
      "cell_type": "code",
      "metadata": {
        "id": "R1dJL78CUo4Q",
        "colab_type": "code",
        "colab": {},
        "outputId": "ef80e8b4-617e-4033-a684-3b5989699bcd"
      },
      "source": [
        "flight_data.tail()  ####12 year traveling record of the passengers."
      ],
      "execution_count": 0,
      "outputs": [
        {
          "output_type": "execute_result",
          "data": {
            "text/html": [
              "<div>\n",
              "<style scoped>\n",
              "    .dataframe tbody tr th:only-of-type {\n",
              "        vertical-align: middle;\n",
              "    }\n",
              "\n",
              "    .dataframe tbody tr th {\n",
              "        vertical-align: top;\n",
              "    }\n",
              "\n",
              "    .dataframe thead th {\n",
              "        text-align: right;\n",
              "    }\n",
              "</style>\n",
              "<table border=\"1\" class=\"dataframe\">\n",
              "  <thead>\n",
              "    <tr style=\"text-align: right;\">\n",
              "      <th></th>\n",
              "      <th>year</th>\n",
              "      <th>month</th>\n",
              "      <th>passengers</th>\n",
              "    </tr>\n",
              "  </thead>\n",
              "  <tbody>\n",
              "    <tr>\n",
              "      <th>139</th>\n",
              "      <td>1960</td>\n",
              "      <td>August</td>\n",
              "      <td>606</td>\n",
              "    </tr>\n",
              "    <tr>\n",
              "      <th>140</th>\n",
              "      <td>1960</td>\n",
              "      <td>September</td>\n",
              "      <td>508</td>\n",
              "    </tr>\n",
              "    <tr>\n",
              "      <th>141</th>\n",
              "      <td>1960</td>\n",
              "      <td>October</td>\n",
              "      <td>461</td>\n",
              "    </tr>\n",
              "    <tr>\n",
              "      <th>142</th>\n",
              "      <td>1960</td>\n",
              "      <td>November</td>\n",
              "      <td>390</td>\n",
              "    </tr>\n",
              "    <tr>\n",
              "      <th>143</th>\n",
              "      <td>1960</td>\n",
              "      <td>December</td>\n",
              "      <td>432</td>\n",
              "    </tr>\n",
              "  </tbody>\n",
              "</table>\n",
              "</div>"
            ],
            "text/plain": [
              "     year      month  passengers\n",
              "139  1960     August         606\n",
              "140  1960  September         508\n",
              "141  1960    October         461\n",
              "142  1960   November         390\n",
              "143  1960   December         432"
            ]
          },
          "metadata": {
            "tags": []
          },
          "execution_count": 7
        }
      ]
    },
    {
      "cell_type": "code",
      "metadata": {
        "id": "F4MFAtUKUo4X",
        "colab_type": "code",
        "colab": {},
        "outputId": "76360aa5-76b9-44ed-82eb-b7256ac4a283"
      },
      "source": [
        "plt.plot(flight_data['passengers'])  "
      ],
      "execution_count": 0,
      "outputs": [
        {
          "output_type": "execute_result",
          "data": {
            "text/plain": [
              "[<matplotlib.lines.Line2D at 0x24440400688>]"
            ]
          },
          "metadata": {
            "tags": []
          },
          "execution_count": 8
        },
        {
          "output_type": "display_data",
          "data": {
            "image/png": "[encoded data removed]",
            "text/plain": [
              "<Figure size 432x288 with 1 Axes>"
            ]
          },
          "metadata": {
            "tags": [],
            "needs_background": "light"
          }
        }
      ]
    },
    {
      "cell_type": "code",
      "metadata": {
        "id": "CmswOBEPUo4e",
        "colab_type": "code",
        "colab": {},
        "outputId": "af6dc196-62db-4d7e-d8cc-94a5a27297eb"
      },
      "source": [
        "all_data = flight_data['passengers'].values.astype(float)\n",
        "all_data"
      ],
      "execution_count": 0,
      "outputs": [
        {
          "output_type": "execute_result",
          "data": {
            "text/plain": [
              "array([112., 118., 132., 129., 121., 135., 148., 148., 136., 119., 104.,\n",
              "       118., 115., 126., 141., 135., 125., 149., 170., 170., 158., 133.,\n",
              "       114., 140., 145., 150., 178., 163., 172., 178., 199., 199., 184.,\n",
              "       162., 146., 166., 171., 180., 193., 181., 183., 218., 230., 242.,\n",
              "       209., 191., 172., 194., 196., 196., 236., 235., 229., 243., 264.,\n",
              "       272., 237., 211., 180., 201., 204., 188., 235., 227., 234., 264.,\n",
              "       302., 293., 259., 229., 203., 229., 242., 233., 267., 269., 270.,\n",
              "       315., 364., 347., 312., 274., 237., 278., 284., 277., 317., 313.,\n",
              "       318., 374., 413., 405., 355., 306., 271., 306., 315., 301., 356.,\n",
              "       348., 355., 422., 465., 467., 404., 347., 305., 336., 340., 318.,\n",
              "       362., 348., 363., 435., 491., 505., 404., 359., 310., 337., 360.,\n",
              "       342., 406., 396., 420., 472., 548., 559., 463., 407., 362., 405.,\n",
              "       417., 391., 419., 461., 472., 535., 622., 606., 508., 461., 390.,\n",
              "       432.])"
            ]
          },
          "metadata": {
            "tags": []
          },
          "execution_count": 9
        }
      ]
    },
    {
      "cell_type": "code",
      "metadata": {
        "id": "ZWP2jPoTUo4l",
        "colab_type": "code",
        "colab": {},
        "outputId": "ea58d864-20cb-4d41-c982-6bdd8a1c9855"
      },
      "source": [
        "####The first 132 records will be used to train the model and the last 12 records will be used as a test set. \n",
        "####The following script divides the data into training and test sets.\n",
        "\n",
        "\n",
        "train_data = all_data[:-12]\n",
        "test_data = all_data[-12:]\n",
        "\n",
        "train_data"
      ],
      "execution_count": 0,
      "outputs": [
        {
          "output_type": "execute_result",
          "data": {
            "text/plain": [
              "array([112., 118., 132., 129., 121., 135., 148., 148., 136., 119., 104.,\n",
              "       118., 115., 126., 141., 135., 125., 149., 170., 170., 158., 133.,\n",
              "       114., 140., 145., 150., 178., 163., 172., 178., 199., 199., 184.,\n",
              "       162., 146., 166., 171., 180., 193., 181., 183., 218., 230., 242.,\n",
              "       209., 191., 172., 194., 196., 196., 236., 235., 229., 243., 264.,\n",
              "       272., 237., 211., 180., 201., 204., 188., 235., 227., 234., 264.,\n",
              "       302., 293., 259., 229., 203., 229., 242., 233., 267., 269., 270.,\n",
              "       315., 364., 347., 312., 274., 237., 278., 284., 277., 317., 313.,\n",
              "       318., 374., 413., 405., 355., 306., 271., 306., 315., 301., 356.,\n",
              "       348., 355., 422., 465., 467., 404., 347., 305., 336., 340., 318.,\n",
              "       362., 348., 363., 435., 491., 505., 404., 359., 310., 337., 360.,\n",
              "       342., 406., 396., 420., 472., 548., 559., 463., 407., 362., 405.])"
            ]
          },
          "metadata": {
            "tags": []
          },
          "execution_count": 11
        }
      ]
    },
    {
      "cell_type": "code",
      "metadata": {
        "id": "S2CDjCOZUo4r",
        "colab_type": "code",
        "colab": {},
        "outputId": "5a6e217b-0cd1-47e9-a103-e1fb8a7c9820"
      },
      "source": [
        "test_data"
      ],
      "execution_count": 0,
      "outputs": [
        {
          "output_type": "execute_result",
          "data": {
            "text/plain": [
              "array([417., 391., 419., 461., 472., 535., 622., 606., 508., 461., 390.,\n",
              "       432.])"
            ]
          },
          "metadata": {
            "tags": []
          },
          "execution_count": 12
        }
      ]
    },
    {
      "cell_type": "code",
      "metadata": {
        "id": "KeWSAvReUo4x",
        "colab_type": "code",
        "colab": {},
        "outputId": "a04c974d-856b-4e9a-db55-3ca5b591710e"
      },
      "source": [
        "\n",
        "from sklearn.preprocessing import MinMaxScaler\n",
        "\n",
        "scaler = MinMaxScaler(feature_range=(-1, 1))\n",
        "train_data_normalized = scaler.fit_transform(train_data .reshape(-1, 1))\n",
        "\n",
        "train_data_normalized"
      ],
      "execution_count": 0,
      "outputs": [
        {
          "output_type": "execute_result",
          "data": {
            "text/plain": [
              "array([[-0.96483516],\n",
              "       [-0.93846154],\n",
              "       [-0.87692308],\n",
              "       [-0.89010989],\n",
              "       [-0.92527473],\n",
              "       [-0.86373626],\n",
              "       [-0.80659341],\n",
              "       [-0.80659341],\n",
              "       [-0.85934066],\n",
              "       [-0.93406593],\n",
              "       [-1.        ],\n",
              "       [-0.93846154],\n",
              "       [-0.95164835],\n",
              "       [-0.9032967 ],\n",
              "       [-0.83736264],\n",
              "       [-0.86373626],\n",
              "       [-0.90769231],\n",
              "       [-0.8021978 ],\n",
              "       [-0.70989011],\n",
              "       [-0.70989011],\n",
              "       [-0.76263736],\n",
              "       [-0.87252747],\n",
              "       [-0.95604396],\n",
              "       [-0.84175824],\n",
              "       [-0.81978022],\n",
              "       [-0.7978022 ],\n",
              "       [-0.67472527],\n",
              "       [-0.74065934],\n",
              "       [-0.7010989 ],\n",
              "       [-0.67472527],\n",
              "       [-0.58241758],\n",
              "       [-0.58241758],\n",
              "       [-0.64835165],\n",
              "       [-0.74505495],\n",
              "       [-0.81538462],\n",
              "       [-0.72747253],\n",
              "       [-0.70549451],\n",
              "       [-0.66593407],\n",
              "       [-0.60879121],\n",
              "       [-0.66153846],\n",
              "       [-0.65274725],\n",
              "       [-0.4989011 ],\n",
              "       [-0.44615385],\n",
              "       [-0.39340659],\n",
              "       [-0.53846154],\n",
              "       [-0.61758242],\n",
              "       [-0.7010989 ],\n",
              "       [-0.6043956 ],\n",
              "       [-0.5956044 ],\n",
              "       [-0.5956044 ],\n",
              "       [-0.41978022],\n",
              "       [-0.42417582],\n",
              "       [-0.45054945],\n",
              "       [-0.38901099],\n",
              "       [-0.2967033 ],\n",
              "       [-0.26153846],\n",
              "       [-0.41538462],\n",
              "       [-0.52967033],\n",
              "       [-0.66593407],\n",
              "       [-0.57362637],\n",
              "       [-0.56043956],\n",
              "       [-0.63076923],\n",
              "       [-0.42417582],\n",
              "       [-0.45934066],\n",
              "       [-0.42857143],\n",
              "       [-0.2967033 ],\n",
              "       [-0.12967033],\n",
              "       [-0.16923077],\n",
              "       [-0.31868132],\n",
              "       [-0.45054945],\n",
              "       [-0.56483516],\n",
              "       [-0.45054945],\n",
              "       [-0.39340659],\n",
              "       [-0.43296703],\n",
              "       [-0.28351648],\n",
              "       [-0.27472527],\n",
              "       [-0.27032967],\n",
              "       [-0.07252747],\n",
              "       [ 0.14285714],\n",
              "       [ 0.06813187],\n",
              "       [-0.08571429],\n",
              "       [-0.25274725],\n",
              "       [-0.41538462],\n",
              "       [-0.23516484],\n",
              "       [-0.20879121],\n",
              "       [-0.23956044],\n",
              "       [-0.06373626],\n",
              "       [-0.08131868],\n",
              "       [-0.05934066],\n",
              "       [ 0.18681319],\n",
              "       [ 0.35824176],\n",
              "       [ 0.32307692],\n",
              "       [ 0.1032967 ],\n",
              "       [-0.11208791],\n",
              "       [-0.26593407],\n",
              "       [-0.11208791],\n",
              "       [-0.07252747],\n",
              "       [-0.13406593],\n",
              "       [ 0.10769231],\n",
              "       [ 0.07252747],\n",
              "       [ 0.1032967 ],\n",
              "       [ 0.3978022 ],\n",
              "       [ 0.58681319],\n",
              "       [ 0.5956044 ],\n",
              "       [ 0.31868132],\n",
              "       [ 0.06813187],\n",
              "       [-0.11648352],\n",
              "       [ 0.01978022],\n",
              "       [ 0.03736264],\n",
              "       [-0.05934066],\n",
              "       [ 0.13406593],\n",
              "       [ 0.07252747],\n",
              "       [ 0.13846154],\n",
              "       [ 0.45494505],\n",
              "       [ 0.7010989 ],\n",
              "       [ 0.76263736],\n",
              "       [ 0.31868132],\n",
              "       [ 0.12087912],\n",
              "       [-0.09450549],\n",
              "       [ 0.02417582],\n",
              "       [ 0.12527473],\n",
              "       [ 0.04615385],\n",
              "       [ 0.32747253],\n",
              "       [ 0.28351648],\n",
              "       [ 0.38901099],\n",
              "       [ 0.61758242],\n",
              "       [ 0.95164835],\n",
              "       [ 1.        ],\n",
              "       [ 0.57802198],\n",
              "       [ 0.33186813],\n",
              "       [ 0.13406593],\n",
              "       [ 0.32307692]])"
            ]
          },
          "metadata": {
            "tags": []
          },
          "execution_count": 15
        }
      ]
    },
    {
      "cell_type": "code",
      "metadata": {
        "id": "zUG3KJTdUo43",
        "colab_type": "code",
        "colab": {}
      },
      "source": [
        "train_data_normalized = torch.FloatTensor(train_data_normalized).view(-1)"
      ],
      "execution_count": 0,
      "outputs": []
    },
    {
      "cell_type": "code",
      "metadata": {
        "id": "s6aBv1oMUo48",
        "colab_type": "code",
        "colab": {}
      },
      "source": [
        "###Now create the sequences of training data for LSTM model\n",
        "##we can create sequence of passenger values for 12 months and 12+1st month\n",
        "##Take sequence length = 12\n",
        "\n",
        "def create_inout_sequences(input_data, tw):\n",
        "    inout_seq = []\n",
        "    L = len(input_data)\n",
        "    for i in range(L-tw):\n",
        "        train_seq = input_data[i:i+tw]\n",
        "        train_label = input_data[i+tw:i+tw+1]\n",
        "        inout_seq.append((train_seq ,train_label))\n",
        "    return inout_seq"
      ],
      "execution_count": 0,
      "outputs": []
    },
    {
      "cell_type": "code",
      "metadata": {
        "id": "03BH86ztUo5A",
        "colab_type": "code",
        "colab": {}
      },
      "source": [
        "train_inout_seq = create_inout_sequences(train_data_normalized, tw = 12)"
      ],
      "execution_count": 0,
      "outputs": []
    },
    {
      "cell_type": "code",
      "metadata": {
        "id": "3bjoQs4SUo5E",
        "colab_type": "code",
        "colab": {},
        "outputId": "5dc18b45-9ef3-4aa2-a56b-48c2651fa1cd"
      },
      "source": [
        "train_inout_seq"
      ],
      "execution_count": 0,
      "outputs": [
        {
          "output_type": "execute_result",
          "data": {
            "text/plain": [
              "[(tensor([-0.9648, -0.9385, -0.8769, -0.8901, -0.9253, -0.8637, -0.8066, -0.8066,\n",
              "          -0.8593, -0.9341, -1.0000, -0.9385]),\n",
              "  tensor([-0.9516])),\n",
              " (tensor([-0.9385, -0.8769, -0.8901, -0.9253, -0.8637, -0.8066, -0.8066, -0.8593,\n",
              "          -0.9341, -1.0000, -0.9385, -0.9516]),\n",
              "  tensor([-0.9033])),\n",
              " (tensor([-0.8769, -0.8901, -0.9253, -0.8637, -0.8066, -0.8066, -0.8593, -0.9341,\n",
              "          -1.0000, -0.9385, -0.9516, -0.9033]),\n",
              "  tensor([-0.8374])),\n",
              " (tensor([-0.8901, -0.9253, -0.8637, -0.8066, -0.8066, -0.8593, -0.9341, -1.0000,\n",
              "          -0.9385, -0.9516, -0.9033, -0.8374]),\n",
              "  tensor([-0.8637])),\n",
              " (tensor([-0.9253, -0.8637, -0.8066, -0.8066, -0.8593, -0.9341, -1.0000, -0.9385,\n",
              "          -0.9516, -0.9033, -0.8374, -0.8637]),\n",
              "  tensor([-0.9077])),\n",
              " (tensor([-0.8637, -0.8066, -0.8066, -0.8593, -0.9341, -1.0000, -0.9385, -0.9516,\n",
              "          -0.9033, -0.8374, -0.8637, -0.9077]),\n",
              "  tensor([-0.8022])),\n",
              " (tensor([-0.8066, -0.8066, -0.8593, -0.9341, -1.0000, -0.9385, -0.9516, -0.9033,\n",
              "          -0.8374, -0.8637, -0.9077, -0.8022]),\n",
              "  tensor([-0.7099])),\n",
              " (tensor([-0.8066, -0.8593, -0.9341, -1.0000, -0.9385, -0.9516, -0.9033, -0.8374,\n",
              "          -0.8637, -0.9077, -0.8022, -0.7099]),\n",
              "  tensor([-0.7099])),\n",
              " (tensor([-0.8593, -0.9341, -1.0000, -0.9385, -0.9516, -0.9033, -0.8374, -0.8637,\n",
              "          -0.9077, -0.8022, -0.7099, -0.7099]),\n",
              "  tensor([-0.7626])),\n",
              " (tensor([-0.9341, -1.0000, -0.9385, -0.9516, -0.9033, -0.8374, -0.8637, -0.9077,\n",
              "          -0.8022, -0.7099, -0.7099, -0.7626]),\n",
              "  tensor([-0.8725])),\n",
              " (tensor([-1.0000, -0.9385, -0.9516, -0.9033, -0.8374, -0.8637, -0.9077, -0.8022,\n",
              "          -0.7099, -0.7099, -0.7626, -0.8725]),\n",
              "  tensor([-0.9560])),\n",
              " (tensor([-0.9385, -0.9516, -0.9033, -0.8374, -0.8637, -0.9077, -0.8022, -0.7099,\n",
              "          -0.7099, -0.7626, -0.8725, -0.9560]),\n",
              "  tensor([-0.8418])),\n",
              " (tensor([-0.9516, -0.9033, -0.8374, -0.8637, -0.9077, -0.8022, -0.7099, -0.7099,\n",
              "          -0.7626, -0.8725, -0.9560, -0.8418]),\n",
              "  tensor([-0.8198])),\n",
              " (tensor([-0.9033, -0.8374, -0.8637, -0.9077, -0.8022, -0.7099, -0.7099, -0.7626,\n",
              "          -0.8725, -0.9560, -0.8418, -0.8198]),\n",
              "  tensor([-0.7978])),\n",
              " (tensor([-0.8374, -0.8637, -0.9077, -0.8022, -0.7099, -0.7099, -0.7626, -0.8725,\n",
              "          -0.9560, -0.8418, -0.8198, -0.7978]),\n",
              "  tensor([-0.6747])),\n",
              " (tensor([-0.8637, -0.9077, -0.8022, -0.7099, -0.7099, -0.7626, -0.8725, -0.9560,\n",
              "          -0.8418, -0.8198, -0.7978, -0.6747]),\n",
              "  tensor([-0.7407])),\n",
              " (tensor([-0.9077, -0.8022, -0.7099, -0.7099, -0.7626, -0.8725, -0.9560, -0.8418,\n",
              "          -0.8198, -0.7978, -0.6747, -0.7407]),\n",
              "  tensor([-0.7011])),\n",
              " (tensor([-0.8022, -0.7099, -0.7099, -0.7626, -0.8725, -0.9560, -0.8418, -0.8198,\n",
              "          -0.7978, -0.6747, -0.7407, -0.7011]),\n",
              "  tensor([-0.6747])),\n",
              " (tensor([-0.7099, -0.7099, -0.7626, -0.8725, -0.9560, -0.8418, -0.8198, -0.7978,\n",
              "          -0.6747, -0.7407, -0.7011, -0.6747]),\n",
              "  tensor([-0.5824])),\n",
              " (tensor([-0.7099, -0.7626, -0.8725, -0.9560, -0.8418, -0.8198, -0.7978, -0.6747,\n",
              "          -0.7407, -0.7011, -0.6747, -0.5824]),\n",
              "  tensor([-0.5824])),\n",
              " (tensor([-0.7626, -0.8725, -0.9560, -0.8418, -0.8198, -0.7978, -0.6747, -0.7407,\n",
              "          -0.7011, -0.6747, -0.5824, -0.5824]),\n",
              "  tensor([-0.6484])),\n",
              " (tensor([-0.8725, -0.9560, -0.8418, -0.8198, -0.7978, -0.6747, -0.7407, -0.7011,\n",
              "          -0.6747, -0.5824, -0.5824, -0.6484]),\n",
              "  tensor([-0.7451])),\n",
              " (tensor([-0.9560, -0.8418, -0.8198, -0.7978, -0.6747, -0.7407, -0.7011, -0.6747,\n",
              "          -0.5824, -0.5824, -0.6484, -0.7451]),\n",
              "  tensor([-0.8154])),\n",
              " (tensor([-0.8418, -0.8198, -0.7978, -0.6747, -0.7407, -0.7011, -0.6747, -0.5824,\n",
              "          -0.5824, -0.6484, -0.7451, -0.8154]),\n",
              "  tensor([-0.7275])),\n",
              " (tensor([-0.8198, -0.7978, -0.6747, -0.7407, -0.7011, -0.6747, -0.5824, -0.5824,\n",
              "          -0.6484, -0.7451, -0.8154, -0.7275]),\n",
              "  tensor([-0.7055])),\n",
              " (tensor([-0.7978, -0.6747, -0.7407, -0.7011, -0.6747, -0.5824, -0.5824, -0.6484,\n",
              "          -0.7451, -0.8154, -0.7275, -0.7055]),\n",
              "  tensor([-0.6659])),\n",
              " (tensor([-0.6747, -0.7407, -0.7011, -0.6747, -0.5824, -0.5824, -0.6484, -0.7451,\n",
              "          -0.8154, -0.7275, -0.7055, -0.6659]),\n",
              "  tensor([-0.6088])),\n",
              " (tensor([-0.7407, -0.7011, -0.6747, -0.5824, -0.5824, -0.6484, -0.7451, -0.8154,\n",
              "          -0.7275, -0.7055, -0.6659, -0.6088]),\n",
              "  tensor([-0.6615])),\n",
              " (tensor([-0.7011, -0.6747, -0.5824, -0.5824, -0.6484, -0.7451, -0.8154, -0.7275,\n",
              "          -0.7055, -0.6659, -0.6088, -0.6615]),\n",
              "  tensor([-0.6527])),\n",
              " (tensor([-0.6747, -0.5824, -0.5824, -0.6484, -0.7451, -0.8154, -0.7275, -0.7055,\n",
              "          -0.6659, -0.6088, -0.6615, -0.6527]),\n",
              "  tensor([-0.4989])),\n",
              " (tensor([-0.5824, -0.5824, -0.6484, -0.7451, -0.8154, -0.7275, -0.7055, -0.6659,\n",
              "          -0.6088, -0.6615, -0.6527, -0.4989]),\n",
              "  tensor([-0.4462])),\n",
              " (tensor([-0.5824, -0.6484, -0.7451, -0.8154, -0.7275, -0.7055, -0.6659, -0.6088,\n",
              "          -0.6615, -0.6527, -0.4989, -0.4462]),\n",
              "  tensor([-0.3934])),\n",
              " (tensor([-0.6484, -0.7451, -0.8154, -0.7275, -0.7055, -0.6659, -0.6088, -0.6615,\n",
              "          -0.6527, -0.4989, -0.4462, -0.3934]),\n",
              "  tensor([-0.5385])),\n",
              " (tensor([-0.7451, -0.8154, -0.7275, -0.7055, -0.6659, -0.6088, -0.6615, -0.6527,\n",
              "          -0.4989, -0.4462, -0.3934, -0.5385]),\n",
              "  tensor([-0.6176])),\n",
              " (tensor([-0.8154, -0.7275, -0.7055, -0.6659, -0.6088, -0.6615, -0.6527, -0.4989,\n",
              "          -0.4462, -0.3934, -0.5385, -0.6176]),\n",
              "  tensor([-0.7011])),\n",
              " (tensor([-0.7275, -0.7055, -0.6659, -0.6088, -0.6615, -0.6527, -0.4989, -0.4462,\n",
              "          -0.3934, -0.5385, -0.6176, -0.7011]),\n",
              "  tensor([-0.6044])),\n",
              " (tensor([-0.7055, -0.6659, -0.6088, -0.6615, -0.6527, -0.4989, -0.4462, -0.3934,\n",
              "          -0.5385, -0.6176, -0.7011, -0.6044]),\n",
              "  tensor([-0.5956])),\n",
              " (tensor([-0.6659, -0.6088, -0.6615, -0.6527, -0.4989, -0.4462, -0.3934, -0.5385,\n",
              "          -0.6176, -0.7011, -0.6044, -0.5956]),\n",
              "  tensor([-0.5956])),\n",
              " (tensor([-0.6088, -0.6615, -0.6527, -0.4989, -0.4462, -0.3934, -0.5385, -0.6176,\n",
              "          -0.7011, -0.6044, -0.5956, -0.5956]),\n",
              "  tensor([-0.4198])),\n",
              " (tensor([-0.6615, -0.6527, -0.4989, -0.4462, -0.3934, -0.5385, -0.6176, -0.7011,\n",
              "          -0.6044, -0.5956, -0.5956, -0.4198]),\n",
              "  tensor([-0.4242])),\n",
              " (tensor([-0.6527, -0.4989, -0.4462, -0.3934, -0.5385, -0.6176, -0.7011, -0.6044,\n",
              "          -0.5956, -0.5956, -0.4198, -0.4242]),\n",
              "  tensor([-0.4505])),\n",
              " (tensor([-0.4989, -0.4462, -0.3934, -0.5385, -0.6176, -0.7011, -0.6044, -0.5956,\n",
              "          -0.5956, -0.4198, -0.4242, -0.4505]),\n",
              "  tensor([-0.3890])),\n",
              " (tensor([-0.4462, -0.3934, -0.5385, -0.6176, -0.7011, -0.6044, -0.5956, -0.5956,\n",
              "          -0.4198, -0.4242, -0.4505, -0.3890]),\n",
              "  tensor([-0.2967])),\n",
              " (tensor([-0.3934, -0.5385, -0.6176, -0.7011, -0.6044, -0.5956, -0.5956, -0.4198,\n",
              "          -0.4242, -0.4505, -0.3890, -0.2967]),\n",
              "  tensor([-0.2615])),\n",
              " (tensor([-0.5385, -0.6176, -0.7011, -0.6044, -0.5956, -0.5956, -0.4198, -0.4242,\n",
              "          -0.4505, -0.3890, -0.2967, -0.2615]),\n",
              "  tensor([-0.4154])),\n",
              " (tensor([-0.6176, -0.7011, -0.6044, -0.5956, -0.5956, -0.4198, -0.4242, -0.4505,\n",
              "          -0.3890, -0.2967, -0.2615, -0.4154]),\n",
              "  tensor([-0.5297])),\n",
              " (tensor([-0.7011, -0.6044, -0.5956, -0.5956, -0.4198, -0.4242, -0.4505, -0.3890,\n",
              "          -0.2967, -0.2615, -0.4154, -0.5297]),\n",
              "  tensor([-0.6659])),\n",
              " (tensor([-0.6044, -0.5956, -0.5956, -0.4198, -0.4242, -0.4505, -0.3890, -0.2967,\n",
              "          -0.2615, -0.4154, -0.5297, -0.6659]),\n",
              "  tensor([-0.5736])),\n",
              " (tensor([-0.5956, -0.5956, -0.4198, -0.4242, -0.4505, -0.3890, -0.2967, -0.2615,\n",
              "          -0.4154, -0.5297, -0.6659, -0.5736]),\n",
              "  tensor([-0.5604])),\n",
              " (tensor([-0.5956, -0.4198, -0.4242, -0.4505, -0.3890, -0.2967, -0.2615, -0.4154,\n",
              "          -0.5297, -0.6659, -0.5736, -0.5604]),\n",
              "  tensor([-0.6308])),\n",
              " (tensor([-0.4198, -0.4242, -0.4505, -0.3890, -0.2967, -0.2615, -0.4154, -0.5297,\n",
              "          -0.6659, -0.5736, -0.5604, -0.6308]),\n",
              "  tensor([-0.4242])),\n",
              " (tensor([-0.4242, -0.4505, -0.3890, -0.2967, -0.2615, -0.4154, -0.5297, -0.6659,\n",
              "          -0.5736, -0.5604, -0.6308, -0.4242]),\n",
              "  tensor([-0.4593])),\n",
              " (tensor([-0.4505, -0.3890, -0.2967, -0.2615, -0.4154, -0.5297, -0.6659, -0.5736,\n",
              "          -0.5604, -0.6308, -0.4242, -0.4593]),\n",
              "  tensor([-0.4286])),\n",
              " (tensor([-0.3890, -0.2967, -0.2615, -0.4154, -0.5297, -0.6659, -0.5736, -0.5604,\n",
              "          -0.6308, -0.4242, -0.4593, -0.4286]),\n",
              "  tensor([-0.2967])),\n",
              " (tensor([-0.2967, -0.2615, -0.4154, -0.5297, -0.6659, -0.5736, -0.5604, -0.6308,\n",
              "          -0.4242, -0.4593, -0.4286, -0.2967]),\n",
              "  tensor([-0.1297])),\n",
              " (tensor([-0.2615, -0.4154, -0.5297, -0.6659, -0.5736, -0.5604, -0.6308, -0.4242,\n",
              "          -0.4593, -0.4286, -0.2967, -0.1297]),\n",
              "  tensor([-0.1692])),\n",
              " (tensor([-0.4154, -0.5297, -0.6659, -0.5736, -0.5604, -0.6308, -0.4242, -0.4593,\n",
              "          -0.4286, -0.2967, -0.1297, -0.1692]),\n",
              "  tensor([-0.3187])),\n",
              " (tensor([-0.5297, -0.6659, -0.5736, -0.5604, -0.6308, -0.4242, -0.4593, -0.4286,\n",
              "          -0.2967, -0.1297, -0.1692, -0.3187]),\n",
              "  tensor([-0.4505])),\n",
              " (tensor([-0.6659, -0.5736, -0.5604, -0.6308, -0.4242, -0.4593, -0.4286, -0.2967,\n",
              "          -0.1297, -0.1692, -0.3187, -0.4505]),\n",
              "  tensor([-0.5648])),\n",
              " (tensor([-0.5736, -0.5604, -0.6308, -0.4242, -0.4593, -0.4286, -0.2967, -0.1297,\n",
              "          -0.1692, -0.3187, -0.4505, -0.5648]),\n",
              "  tensor([-0.4505])),\n",
              " (tensor([-0.5604, -0.6308, -0.4242, -0.4593, -0.4286, -0.2967, -0.1297, -0.1692,\n",
              "          -0.3187, -0.4505, -0.5648, -0.4505]),\n",
              "  tensor([-0.3934])),\n",
              " (tensor([-0.6308, -0.4242, -0.4593, -0.4286, -0.2967, -0.1297, -0.1692, -0.3187,\n",
              "          -0.4505, -0.5648, -0.4505, -0.3934]),\n",
              "  tensor([-0.4330])),\n",
              " (tensor([-0.4242, -0.4593, -0.4286, -0.2967, -0.1297, -0.1692, -0.3187, -0.4505,\n",
              "          -0.5648, -0.4505, -0.3934, -0.4330]),\n",
              "  tensor([-0.2835])),\n",
              " (tensor([-0.4593, -0.4286, -0.2967, -0.1297, -0.1692, -0.3187, -0.4505, -0.5648,\n",
              "          -0.4505, -0.3934, -0.4330, -0.2835]),\n",
              "  tensor([-0.2747])),\n",
              " (tensor([-0.4286, -0.2967, -0.1297, -0.1692, -0.3187, -0.4505, -0.5648, -0.4505,\n",
              "          -0.3934, -0.4330, -0.2835, -0.2747]),\n",
              "  tensor([-0.2703])),\n",
              " (tensor([-0.2967, -0.1297, -0.1692, -0.3187, -0.4505, -0.5648, -0.4505, -0.3934,\n",
              "          -0.4330, -0.2835, -0.2747, -0.2703]),\n",
              "  tensor([-0.0725])),\n",
              " (tensor([-0.1297, -0.1692, -0.3187, -0.4505, -0.5648, -0.4505, -0.3934, -0.4330,\n",
              "          -0.2835, -0.2747, -0.2703, -0.0725]),\n",
              "  tensor([0.1429])),\n",
              " (tensor([-0.1692, -0.3187, -0.4505, -0.5648, -0.4505, -0.3934, -0.4330, -0.2835,\n",
              "          -0.2747, -0.2703, -0.0725,  0.1429]),\n",
              "  tensor([0.0681])),\n",
              " (tensor([-0.3187, -0.4505, -0.5648, -0.4505, -0.3934, -0.4330, -0.2835, -0.2747,\n",
              "          -0.2703, -0.0725,  0.1429,  0.0681]),\n",
              "  tensor([-0.0857])),\n",
              " (tensor([-0.4505, -0.5648, -0.4505, -0.3934, -0.4330, -0.2835, -0.2747, -0.2703,\n",
              "          -0.0725,  0.1429,  0.0681, -0.0857]),\n",
              "  tensor([-0.2527])),\n",
              " (tensor([-0.5648, -0.4505, -0.3934, -0.4330, -0.2835, -0.2747, -0.2703, -0.0725,\n",
              "           0.1429,  0.0681, -0.0857, -0.2527]),\n",
              "  tensor([-0.4154])),\n",
              " (tensor([-0.4505, -0.3934, -0.4330, -0.2835, -0.2747, -0.2703, -0.0725,  0.1429,\n",
              "           0.0681, -0.0857, -0.2527, -0.4154]),\n",
              "  tensor([-0.2352])),\n",
              " (tensor([-0.3934, -0.4330, -0.2835, -0.2747, -0.2703, -0.0725,  0.1429,  0.0681,\n",
              "          -0.0857, -0.2527, -0.4154, -0.2352]),\n",
              "  tensor([-0.2088])),\n",
              " (tensor([-0.4330, -0.2835, -0.2747, -0.2703, -0.0725,  0.1429,  0.0681, -0.0857,\n",
              "          -0.2527, -0.4154, -0.2352, -0.2088]),\n",
              "  tensor([-0.2396])),\n",
              " (tensor([-0.2835, -0.2747, -0.2703, -0.0725,  0.1429,  0.0681, -0.0857, -0.2527,\n",
              "          -0.4154, -0.2352, -0.2088, -0.2396]),\n",
              "  tensor([-0.0637])),\n",
              " (tensor([-0.2747, -0.2703, -0.0725,  0.1429,  0.0681, -0.0857, -0.2527, -0.4154,\n",
              "          -0.2352, -0.2088, -0.2396, -0.0637]),\n",
              "  tensor([-0.0813])),\n",
              " (tensor([-0.2703, -0.0725,  0.1429,  0.0681, -0.0857, -0.2527, -0.4154, -0.2352,\n",
              "          -0.2088, -0.2396, -0.0637, -0.0813]),\n",
              "  tensor([-0.0593])),\n",
              " (tensor([-0.0725,  0.1429,  0.0681, -0.0857, -0.2527, -0.4154, -0.2352, -0.2088,\n",
              "          -0.2396, -0.0637, -0.0813, -0.0593]),\n",
              "  tensor([0.1868])),\n",
              " (tensor([ 0.1429,  0.0681, -0.0857, -0.2527, -0.4154, -0.2352, -0.2088, -0.2396,\n",
              "          -0.0637, -0.0813, -0.0593,  0.1868]),\n",
              "  tensor([0.3582])),\n",
              " (tensor([ 0.0681, -0.0857, -0.2527, -0.4154, -0.2352, -0.2088, -0.2396, -0.0637,\n",
              "          -0.0813, -0.0593,  0.1868,  0.3582]),\n",
              "  tensor([0.3231])),\n",
              " (tensor([-0.0857, -0.2527, -0.4154, -0.2352, -0.2088, -0.2396, -0.0637, -0.0813,\n",
              "          -0.0593,  0.1868,  0.3582,  0.3231]),\n",
              "  tensor([0.1033])),\n",
              " (tensor([-0.2527, -0.4154, -0.2352, -0.2088, -0.2396, -0.0637, -0.0813, -0.0593,\n",
              "           0.1868,  0.3582,  0.3231,  0.1033]),\n",
              "  tensor([-0.1121])),\n",
              " (tensor([-0.4154, -0.2352, -0.2088, -0.2396, -0.0637, -0.0813, -0.0593,  0.1868,\n",
              "           0.3582,  0.3231,  0.1033, -0.1121]),\n",
              "  tensor([-0.2659])),\n",
              " (tensor([-0.2352, -0.2088, -0.2396, -0.0637, -0.0813, -0.0593,  0.1868,  0.3582,\n",
              "           0.3231,  0.1033, -0.1121, -0.2659]),\n",
              "  tensor([-0.1121])),\n",
              " (tensor([-0.2088, -0.2396, -0.0637, -0.0813, -0.0593,  0.1868,  0.3582,  0.3231,\n",
              "           0.1033, -0.1121, -0.2659, -0.1121]),\n",
              "  tensor([-0.0725])),\n",
              " (tensor([-0.2396, -0.0637, -0.0813, -0.0593,  0.1868,  0.3582,  0.3231,  0.1033,\n",
              "          -0.1121, -0.2659, -0.1121, -0.0725]),\n",
              "  tensor([-0.1341])),\n",
              " (tensor([-0.0637, -0.0813, -0.0593,  0.1868,  0.3582,  0.3231,  0.1033, -0.1121,\n",
              "          -0.2659, -0.1121, -0.0725, -0.1341]),\n",
              "  tensor([0.1077])),\n",
              " (tensor([-0.0813, -0.0593,  0.1868,  0.3582,  0.3231,  0.1033, -0.1121, -0.2659,\n",
              "          -0.1121, -0.0725, -0.1341,  0.1077]),\n",
              "  tensor([0.0725])),\n",
              " (tensor([-0.0593,  0.1868,  0.3582,  0.3231,  0.1033, -0.1121, -0.2659, -0.1121,\n",
              "          -0.0725, -0.1341,  0.1077,  0.0725]),\n",
              "  tensor([0.1033])),\n",
              " (tensor([ 0.1868,  0.3582,  0.3231,  0.1033, -0.1121, -0.2659, -0.1121, -0.0725,\n",
              "          -0.1341,  0.1077,  0.0725,  0.1033]),\n",
              "  tensor([0.3978])),\n",
              " (tensor([ 0.3582,  0.3231,  0.1033, -0.1121, -0.2659, -0.1121, -0.0725, -0.1341,\n",
              "           0.1077,  0.0725,  0.1033,  0.3978]),\n",
              "  tensor([0.5868])),\n",
              " (tensor([ 0.3231,  0.1033, -0.1121, -0.2659, -0.1121, -0.0725, -0.1341,  0.1077,\n",
              "           0.0725,  0.1033,  0.3978,  0.5868]),\n",
              "  tensor([0.5956])),\n",
              " (tensor([ 0.1033, -0.1121, -0.2659, -0.1121, -0.0725, -0.1341,  0.1077,  0.0725,\n",
              "           0.1033,  0.3978,  0.5868,  0.5956]),\n",
              "  tensor([0.3187])),\n",
              " (tensor([-0.1121, -0.2659, -0.1121, -0.0725, -0.1341,  0.1077,  0.0725,  0.1033,\n",
              "           0.3978,  0.5868,  0.5956,  0.3187]),\n",
              "  tensor([0.0681])),\n",
              " (tensor([-0.2659, -0.1121, -0.0725, -0.1341,  0.1077,  0.0725,  0.1033,  0.3978,\n",
              "           0.5868,  0.5956,  0.3187,  0.0681]),\n",
              "  tensor([-0.1165])),\n",
              " (tensor([-0.1121, -0.0725, -0.1341,  0.1077,  0.0725,  0.1033,  0.3978,  0.5868,\n",
              "           0.5956,  0.3187,  0.0681, -0.1165]),\n",
              "  tensor([0.0198])),\n",
              " (tensor([-0.0725, -0.1341,  0.1077,  0.0725,  0.1033,  0.3978,  0.5868,  0.5956,\n",
              "           0.3187,  0.0681, -0.1165,  0.0198]),\n",
              "  tensor([0.0374])),\n",
              " (tensor([-0.1341,  0.1077,  0.0725,  0.1033,  0.3978,  0.5868,  0.5956,  0.3187,\n",
              "           0.0681, -0.1165,  0.0198,  0.0374]),\n",
              "  tensor([-0.0593])),\n",
              " (tensor([ 0.1077,  0.0725,  0.1033,  0.3978,  0.5868,  0.5956,  0.3187,  0.0681,\n",
              "          -0.1165,  0.0198,  0.0374, -0.0593]),\n",
              "  tensor([0.1341])),\n",
              " (tensor([ 0.0725,  0.1033,  0.3978,  0.5868,  0.5956,  0.3187,  0.0681, -0.1165,\n",
              "           0.0198,  0.0374, -0.0593,  0.1341]),\n",
              "  tensor([0.0725])),\n",
              " (tensor([ 0.1033,  0.3978,  0.5868,  0.5956,  0.3187,  0.0681, -0.1165,  0.0198,\n",
              "           0.0374, -0.0593,  0.1341,  0.0725]),\n",
              "  tensor([0.1385])),\n",
              " (tensor([ 0.3978,  0.5868,  0.5956,  0.3187,  0.0681, -0.1165,  0.0198,  0.0374,\n",
              "          -0.0593,  0.1341,  0.0725,  0.1385]),\n",
              "  tensor([0.4549])),\n",
              " (tensor([ 0.5868,  0.5956,  0.3187,  0.0681, -0.1165,  0.0198,  0.0374, -0.0593,\n",
              "           0.1341,  0.0725,  0.1385,  0.4549]),\n",
              "  tensor([0.7011])),\n",
              " (tensor([ 0.5956,  0.3187,  0.0681, -0.1165,  0.0198,  0.0374, -0.0593,  0.1341,\n",
              "           0.0725,  0.1385,  0.4549,  0.7011]),\n",
              "  tensor([0.7626])),\n",
              " (tensor([ 0.3187,  0.0681, -0.1165,  0.0198,  0.0374, -0.0593,  0.1341,  0.0725,\n",
              "           0.1385,  0.4549,  0.7011,  0.7626]),\n",
              "  tensor([0.3187])),\n",
              " (tensor([ 0.0681, -0.1165,  0.0198,  0.0374, -0.0593,  0.1341,  0.0725,  0.1385,\n",
              "           0.4549,  0.7011,  0.7626,  0.3187]),\n",
              "  tensor([0.1209])),\n",
              " (tensor([-0.1165,  0.0198,  0.0374, -0.0593,  0.1341,  0.0725,  0.1385,  0.4549,\n",
              "           0.7011,  0.7626,  0.3187,  0.1209]),\n",
              "  tensor([-0.0945])),\n",
              " (tensor([ 0.0198,  0.0374, -0.0593,  0.1341,  0.0725,  0.1385,  0.4549,  0.7011,\n",
              "           0.7626,  0.3187,  0.1209, -0.0945]),\n",
              "  tensor([0.0242])),\n",
              " (tensor([ 0.0374, -0.0593,  0.1341,  0.0725,  0.1385,  0.4549,  0.7011,  0.7626,\n",
              "           0.3187,  0.1209, -0.0945,  0.0242]),\n",
              "  tensor([0.1253])),\n",
              " (tensor([-0.0593,  0.1341,  0.0725,  0.1385,  0.4549,  0.7011,  0.7626,  0.3187,\n",
              "           0.1209, -0.0945,  0.0242,  0.1253]),\n",
              "  tensor([0.0462])),\n",
              " (tensor([ 0.1341,  0.0725,  0.1385,  0.4549,  0.7011,  0.7626,  0.3187,  0.1209,\n",
              "          -0.0945,  0.0242,  0.1253,  0.0462]),\n",
              "  tensor([0.3275])),\n",
              " (tensor([ 0.0725,  0.1385,  0.4549,  0.7011,  0.7626,  0.3187,  0.1209, -0.0945,\n",
              "           0.0242,  0.1253,  0.0462,  0.3275]),\n",
              "  tensor([0.2835])),\n",
              " (tensor([ 0.1385,  0.4549,  0.7011,  0.7626,  0.3187,  0.1209, -0.0945,  0.0242,\n",
              "           0.1253,  0.0462,  0.3275,  0.2835]),\n",
              "  tensor([0.3890])),\n",
              " (tensor([ 0.4549,  0.7011,  0.7626,  0.3187,  0.1209, -0.0945,  0.0242,  0.1253,\n",
              "           0.0462,  0.3275,  0.2835,  0.3890]),\n",
              "  tensor([0.6176])),\n",
              " (tensor([ 0.7011,  0.7626,  0.3187,  0.1209, -0.0945,  0.0242,  0.1253,  0.0462,\n",
              "           0.3275,  0.2835,  0.3890,  0.6176]),\n",
              "  tensor([0.9516])),\n",
              " (tensor([ 0.7626,  0.3187,  0.1209, -0.0945,  0.0242,  0.1253,  0.0462,  0.3275,\n",
              "           0.2835,  0.3890,  0.6176,  0.9516]),\n",
              "  tensor([1.])),\n",
              " (tensor([ 0.3187,  0.1209, -0.0945,  0.0242,  0.1253,  0.0462,  0.3275,  0.2835,\n",
              "           0.3890,  0.6176,  0.9516,  1.0000]),\n",
              "  tensor([0.5780])),\n",
              " (tensor([ 0.1209, -0.0945,  0.0242,  0.1253,  0.0462,  0.3275,  0.2835,  0.3890,\n",
              "           0.6176,  0.9516,  1.0000,  0.5780]),\n",
              "  tensor([0.3319])),\n",
              " (tensor([-0.0945,  0.0242,  0.1253,  0.0462,  0.3275,  0.2835,  0.3890,  0.6176,\n",
              "           0.9516,  1.0000,  0.5780,  0.3319]),\n",
              "  tensor([0.1341])),\n",
              " (tensor([0.0242, 0.1253, 0.0462, 0.3275, 0.2835, 0.3890, 0.6176, 0.9516, 1.0000,\n",
              "          0.5780, 0.3319, 0.1341]),\n",
              "  tensor([0.3231]))]"
            ]
          },
          "metadata": {
            "tags": []
          },
          "execution_count": 19
        }
      ]
    },
    {
      "cell_type": "code",
      "metadata": {
        "id": "QrqsUMeGUo5I",
        "colab_type": "code",
        "colab": {},
        "outputId": "cad8d87c-9806-4ead-c321-118477f19812"
      },
      "source": [
        "len(train_inout_seq)"
      ],
      "execution_count": 0,
      "outputs": [
        {
          "output_type": "execute_result",
          "data": {
            "text/plain": [
              "120"
            ]
          },
          "metadata": {
            "tags": []
          },
          "execution_count": 20
        }
      ]
    },
    {
      "cell_type": "code",
      "metadata": {
        "id": "Mp4CBTNYUo5L",
        "colab_type": "code",
        "colab": {}
      },
      "source": [
        "class LSTM(nn.Module):\n",
        "    def __init__(self, input_size=1, hidden_layer_size=100, output_size=1):     ## for each month we have only 1 value i.e.\n",
        "                                                                                ##total number of passengers, therefore the input size will be 1.\n",
        "        super().__init__()\n",
        "        self.hidden_layer_size = hidden_layer_size\n",
        "\n",
        "        self.lstm = nn.LSTM(input_size, hidden_layer_size)\n",
        "\n",
        "        self.linear = nn.Linear(hidden_layer_size, output_size)\n",
        "\n",
        "        self.hidden_cell = (torch.zeros(1,1,self.hidden_layer_size),      ###contains previous hidden and cell state\n",
        "                            torch.zeros(1,1,self.hidden_layer_size))\n",
        "\n",
        "    def forward(self, input_seq):\n",
        "        lstm_out, self.hidden_cell = self.lstm(input_seq.view(len(input_seq) ,1, -1), self.hidden_cell)\n",
        "        predictions = self.linear(lstm_out.view(len(input_seq), -1))\n",
        "        return predictions[-1]"
      ],
      "execution_count": 0,
      "outputs": []
    },
    {
      "cell_type": "code",
      "metadata": {
        "id": "p0K-WwOBUo5Q",
        "colab_type": "code",
        "colab": {}
      },
      "source": [
        "import torch.optim as optim\n",
        "model = LSTM()\n",
        "loss_function = nn.MSELoss()\n",
        "optimizer = optim.SGD(model.parameters(), lr=0.1)"
      ],
      "execution_count": 0,
      "outputs": []
    },
    {
      "cell_type": "code",
      "metadata": {
        "id": "opaZgOwjUo5U",
        "colab_type": "code",
        "colab": {},
        "outputId": "ab7f002b-c30f-44d9-f5f2-ff283fd5f840"
      },
      "source": [
        "epochs = 4\n",
        "\n",
        "for i in range(epochs):\n",
        "    for seq, labels in train_inout_seq:\n",
        "        optimizer.zero_grad()\n",
        "        model.hidden_cell = (torch.zeros(1, 1, model.hidden_layer_size),\n",
        "                        torch.zeros(1, 1, model.hidden_layer_size))\n",
        "\n",
        "        y_pred = model(seq)\n",
        "\n",
        "        single_loss = loss_function(y_pred, labels)\n",
        "        single_loss.backward()\n",
        "        optimizer.step()\n",
        "\n",
        "    \n",
        "#         print(f'epoch: {i:3} loss: {single_loss.item():10.8f}')\n",
        "\n",
        "print(f'epoch: {i:3} loss: {single_loss.item():10.10f}')"
      ],
      "execution_count": 0,
      "outputs": [
        {
          "output_type": "stream",
          "text": [
            "epoch:   3 loss: 0.0016030120\n"
          ],
          "name": "stdout"
        }
      ]
    },
    {
      "cell_type": "code",
      "metadata": {
        "id": "Tmga9xcOUo5Z",
        "colab_type": "code",
        "colab": {},
        "outputId": "93ac5dc8-ee1e-4515-99ed-0d1bb911236f"
      },
      "source": [
        "test_inputs = train_data_normalized[-12:].tolist()\n",
        "print(test_inputs)\n",
        "\n",
        "model.eval()\n",
        "\n",
        "for i in range(12):\n",
        "    seq = torch.FloatTensor(test_inputs[-12:])\n",
        "    with torch.no_grad():\n",
        "        model.hidden = (torch.zeros(1, 1, model.hidden_layer_size),\n",
        "                        torch.zeros(1, 1, model.hidden_layer_size))\n",
        "        test_inputs.append(model(seq).item())\n",
        "                "
      ],
      "execution_count": 0,
      "outputs": [
        {
          "output_type": "stream",
          "text": [
            "[0.12527473270893097, 0.04615384712815285, 0.3274725377559662, 0.2835164964199066, 0.3890109956264496, 0.6175824403762817, 0.9516483545303345, 1.0, 0.5780220031738281, 0.33186814188957214, 0.13406594097614288, 0.32307693362236023]\n"
          ],
          "name": "stdout"
        }
      ]
    },
    {
      "cell_type": "code",
      "metadata": {
        "id": "Zh1m2GifUo5d",
        "colab_type": "code",
        "colab": {},
        "outputId": "fc1d7589-f5ae-4ec9-ff68-432d8f06f402"
      },
      "source": [
        "print(test_inputs)             ######24values----------last 12 values are predicted values"
      ],
      "execution_count": 0,
      "outputs": [
        {
          "output_type": "stream",
          "text": [
            "[0.12527473270893097, 0.04615384712815285, 0.3274725377559662, 0.2835164964199066, 0.3890109956264496, 0.6175824403762817, 0.9516483545303345, 1.0, 0.5780220031738281, 0.33186814188957214, 0.13406594097614288, 0.32307693362236023, 0.3082144260406494, 0.30994898080825806, 0.31106385588645935, 0.31174004077911377, 0.31213945150375366, 0.31236302852630615, 0.3124765455722809, 0.3125207722187042, 0.312532901763916, 0.31254589557647705, 0.3125610053539276, 0.31257885694503784]\n"
          ],
          "name": "stdout"
        }
      ]
    },
    {
      "cell_type": "code",
      "metadata": {
        "id": "WQHALnMLUo5h",
        "colab_type": "code",
        "colab": {},
        "outputId": "1cf4c253-25b1-425d-db8d-b79e9497c083"
      },
      "source": [
        "test_inputs[12:]   ##predicted values"
      ],
      "execution_count": 0,
      "outputs": [
        {
          "output_type": "execute_result",
          "data": {
            "text/plain": [
              "[0.3082144260406494,\n",
              " 0.30994898080825806,\n",
              " 0.31106385588645935,\n",
              " 0.31174004077911377,\n",
              " 0.31213945150375366,\n",
              " 0.31236302852630615,\n",
              " 0.3124765455722809,\n",
              " 0.3125207722187042,\n",
              " 0.312532901763916,\n",
              " 0.31254589557647705,\n",
              " 0.3125610053539276,\n",
              " 0.31257885694503784]"
            ]
          },
          "metadata": {
            "tags": []
          },
          "execution_count": 31
        }
      ]
    },
    {
      "cell_type": "code",
      "metadata": {
        "id": "q9hgMLJqUo5m",
        "colab_type": "code",
        "colab": {},
        "outputId": "6eb83369-c5fb-4448-a233-13ec6b1cd0b0"
      },
      "source": [
        "actual_predictions = scaler.inverse_transform(np.array(test_inputs[12:] ).reshape(-1, 1))\n",
        "print(actual_predictions)"
      ],
      "execution_count": 0,
      "outputs": [
        {
          "output_type": "stream",
          "text": [
            "[[401.61878192]\n",
            " [402.01339313]\n",
            " [402.26702721]\n",
            " [402.42085928]\n",
            " [402.51172522]\n",
            " [402.56258899]\n",
            " [402.58841412]\n",
            " [402.59847568]\n",
            " [402.60123515]\n",
            " [402.60419124]\n",
            " [402.60762872]\n",
            " [402.61168995]]\n"
          ],
          "name": "stdout"
        }
      ]
    },
    {
      "cell_type": "code",
      "metadata": {
        "id": "QafxpneLUo5q",
        "colab_type": "code",
        "colab": {}
      },
      "source": [
        ""
      ],
      "execution_count": 0,
      "outputs": []
    }
  ]
}